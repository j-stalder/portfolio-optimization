{
 "cells": [
  {
   "cell_type": "markdown",
   "metadata": {},
   "source": [
    "# Semester Project Portfolio Optimization Spring 2019"
   ]
  },
  {
   "cell_type": "code",
   "execution_count": null,
   "metadata": {},
   "outputs": [],
   "source": [
    "# Import packages\n",
    "import pandas as pd\n",
    "import numpy as np\n",
    "import gurobipy as gb\n",
    "import matplotlib.pyplot as plt"
   ]
  },
  {
   "cell_type": "code",
   "execution_count": null,
   "metadata": {},
   "outputs": [],
   "source": [
    "# Define precision of number display\n",
    "pd.set_option('precision', 5)"
   ]
  },
  {
   "cell_type": "markdown",
   "metadata": {},
   "source": [
    "## Task 1"
   ]
  },
  {
   "cell_type": "markdown",
   "metadata": {},
   "source": [
    "### a)"
   ]
  },
  {
   "cell_type": "code",
   "execution_count": null,
   "metadata": {},
   "outputs": [],
   "source": [
    "# Import prices\n",
    "weekly_prices = pd.read_csv('prices1617.csv', index_col='date')"
   ]
  },
  {
   "cell_type": "code",
   "execution_count": null,
   "metadata": {},
   "outputs": [],
   "source": [
    "# Look at first five rows\n",
    "weekly_prices.head()"
   ]
  },
  {
   "cell_type": "code",
   "execution_count": null,
   "metadata": {},
   "outputs": [],
   "source": [
    "# Compute weekly returns\n",
    "weekly_returns = weekly_prices / weekly_prices.shift(1) - 1"
   ]
  },
  {
   "cell_type": "code",
   "execution_count": null,
   "metadata": {},
   "outputs": [],
   "source": [
    "# Drop NA-return in first period\n",
    "weekly_returns = weekly_returns.dropna()"
   ]
  },
  {
   "cell_type": "code",
   "execution_count": null,
   "metadata": {},
   "outputs": [],
   "source": [
    "# Look at first five rows\n",
    "weekly_returns.head()"
   ]
  },
  {
   "cell_type": "code",
   "execution_count": null,
   "metadata": {},
   "outputs": [],
   "source": [
    "# Compute expected returns\n",
    "all_expected_returns = weekly_returns.mean()\n",
    "all_expected_returns"
   ]
  },
  {
   "cell_type": "markdown",
   "metadata": {},
   "source": [
    "### b)"
   ]
  },
  {
   "cell_type": "code",
   "execution_count": null,
   "metadata": {},
   "outputs": [],
   "source": [
    "# Get array of stocks (without index SMI)\n",
    "stocks = weekly_returns.columns.drop('SMI')"
   ]
  },
  {
   "cell_type": "code",
   "execution_count": null,
   "metadata": {},
   "outputs": [],
   "source": [
    "# Create equally weighted portfolio\n",
    "weights_p1 = pd.Series(1 / len(stocks), index=stocks)\n",
    "weekly_returns['P1'] = weekly_returns[stocks].dot(weights_p1)"
   ]
  },
  {
   "cell_type": "code",
   "execution_count": null,
   "metadata": {
    "scrolled": true
   },
   "outputs": [],
   "source": [
    "# Calculate variance\n",
    "weekly_returns[['P1', 'SMI']].var()"
   ]
  },
  {
   "cell_type": "code",
   "execution_count": null,
   "metadata": {},
   "outputs": [],
   "source": [
    "# Calculate mean-absolute deviation\n",
    "weekly_returns[['P1', 'SMI']].mad()"
   ]
  },
  {
   "cell_type": "code",
   "execution_count": null,
   "metadata": {},
   "outputs": [],
   "source": [
    "# Compute the beta of P1\n",
    "weekly_returns['P1'].cov(weekly_returns['SMI']) / weekly_returns['SMI'].var()"
   ]
  },
  {
   "cell_type": "code",
   "execution_count": null,
   "metadata": {},
   "outputs": [],
   "source": [
    "# Compute the beta of SMI\n",
    "weekly_returns['SMI'].cov(weekly_returns['SMI']) / weekly_returns['SMI'].var()"
   ]
  },
  {
   "cell_type": "code",
   "execution_count": null,
   "metadata": {
    "scrolled": false
   },
   "outputs": [],
   "source": [
    "# Compute the minimum return\n",
    "weekly_returns[['P1', 'SMI']].min()"
   ]
  },
  {
   "cell_type": "code",
   "execution_count": null,
   "metadata": {},
   "outputs": [],
   "source": [
    "# Define target return\n",
    "target_return = 0.01\n",
    "\n",
    "# Compute expected downside with respect to given target return\n",
    "np.maximum(0, -(weekly_returns[['P1', 'SMI']] - target_return)\n",
    "          ).sum() / weekly_returns['P1'].size"
   ]
  },
  {
   "cell_type": "markdown",
   "metadata": {},
   "source": [
    "### c)"
   ]
  },
  {
   "cell_type": "code",
   "execution_count": null,
   "metadata": {},
   "outputs": [],
   "source": [
    "# Import ratings\n",
    "scores = pd.read_csv('scores.csv', index_col='scores')"
   ]
  },
  {
   "cell_type": "code",
   "execution_count": null,
   "metadata": {},
   "outputs": [],
   "source": [
    "# Look at first five rows\n",
    "scores.head()"
   ]
  },
  {
   "cell_type": "code",
   "execution_count": null,
   "metadata": {
    "scrolled": true
   },
   "outputs": [],
   "source": [
    "# Get ESG scores for P1\n",
    "scores.dot(weights_p1)"
   ]
  },
  {
   "cell_type": "markdown",
   "metadata": {},
   "source": [
    "### d)"
   ]
  },
  {
   "cell_type": "code",
   "execution_count": null,
   "metadata": {},
   "outputs": [],
   "source": [
    "# Get average ESG scores\n",
    "average_esg_score = scores.mean()"
   ]
  },
  {
   "cell_type": "code",
   "execution_count": null,
   "metadata": {},
   "outputs": [],
   "source": [
    "# Visualize average ESG scores and expected returns in scatterplot\n",
    "plt.figure(figsize=(9, 3), dpi=120)\n",
    "plt.scatter(average_esg_score, all_expected_returns[stocks], alpha=0.6)\n",
    "plt.xlabel('ESG average score')\n",
    "plt.ylabel('Expected return');"
   ]
  },
  {
   "cell_type": "markdown",
   "metadata": {},
   "source": [
    "## Task 2"
   ]
  },
  {
   "cell_type": "markdown",
   "metadata": {},
   "source": [
    "### a)"
   ]
  },
  {
   "cell_type": "code",
   "execution_count": null,
   "metadata": {},
   "outputs": [],
   "source": [
    "# Get array of scenarios\n",
    "scenarios = weekly_returns.index"
   ]
  },
  {
   "cell_type": "code",
   "execution_count": null,
   "metadata": {},
   "outputs": [],
   "source": [
    "# Compute expected returns\n",
    "expected_returns = all_expected_returns[stocks]"
   ]
  },
  {
   "cell_type": "code",
   "execution_count": null,
   "metadata": {},
   "outputs": [],
   "source": [
    "# Define target portfolio return\n",
    "target_return = all_expected_returns['SMI']"
   ]
  },
  {
   "cell_type": "code",
   "execution_count": null,
   "metadata": {},
   "outputs": [],
   "source": [
    "# Create model\n",
    "m = gb.Model('MM')"
   ]
  },
  {
   "cell_type": "code",
   "execution_count": null,
   "metadata": {},
   "outputs": [],
   "source": [
    "# Add a variable for each stock\n",
    "x = pd.Series(m.addVars(stocks), index=stocks)"
   ]
  },
  {
   "cell_type": "code",
   "execution_count": null,
   "metadata": {},
   "outputs": [],
   "source": [
    "# Add a variable which represents the minimum portfolio return\n",
    "minimum_return = m.addVar(lb=weekly_returns[stocks].min().min())"
   ]
  },
  {
   "cell_type": "code",
   "execution_count": null,
   "metadata": {},
   "outputs": [],
   "source": [
    "# Define portfolio return\n",
    "portfolio_return = expected_returns.dot(x)"
   ]
  },
  {
   "cell_type": "code",
   "execution_count": null,
   "metadata": {},
   "outputs": [],
   "source": [
    "# Add objective function to model\n",
    "m.setObjective(minimum_return, gb.GRB.MAXIMIZE)"
   ]
  },
  {
   "cell_type": "code",
   "execution_count": null,
   "metadata": {},
   "outputs": [],
   "source": [
    "# Add minimum return constraints\n",
    "for l in scenarios:\n",
    "    m.addConstr(weekly_returns.loc[l, stocks].dot(x) >= minimum_return)"
   ]
  },
  {
   "cell_type": "code",
   "execution_count": null,
   "metadata": {},
   "outputs": [],
   "source": [
    "# Add budget constraint\n",
    "m.addConstr(x.sum() == 1);"
   ]
  },
  {
   "cell_type": "code",
   "execution_count": null,
   "metadata": {},
   "outputs": [],
   "source": [
    "# Add target return constraint\n",
    "target_return_constr = m.addConstr(portfolio_return == target_return)"
   ]
  },
  {
   "cell_type": "code",
   "execution_count": null,
   "metadata": {},
   "outputs": [],
   "source": [
    "# Add blacklist constraints\n",
    "m.addConstr(x.loc['ROCHE'] == 0)\n",
    "m.addConstr(x.loc['NOVARTIS'] == 0);"
   ]
  },
  {
   "cell_type": "code",
   "execution_count": null,
   "metadata": {},
   "outputs": [],
   "source": [
    "# Specify Gurobi options\n",
    "m.setParam('OutputFlag', 0)"
   ]
  },
  {
   "cell_type": "code",
   "execution_count": null,
   "metadata": {},
   "outputs": [],
   "source": [
    "# Run optimization\n",
    "m.optimize()"
   ]
  },
  {
   "cell_type": "code",
   "execution_count": null,
   "metadata": {},
   "outputs": [],
   "source": [
    "# Get weights of stocks in optimal solution\n",
    "weights_p2 = pd.Series([var.X for var in x], index=stocks)"
   ]
  },
  {
   "cell_type": "code",
   "execution_count": null,
   "metadata": {},
   "outputs": [],
   "source": [
    "# Get ESG scores for P2\n",
    "scores[stocks].dot(weights_p2)"
   ]
  },
  {
   "cell_type": "markdown",
   "metadata": {},
   "source": [
    "### b)"
   ]
  },
  {
   "cell_type": "code",
   "execution_count": null,
   "metadata": {},
   "outputs": [],
   "source": [
    "# Get minimum return of P2\n",
    "minimum_return_p2 = minimum_return.X\n",
    "minimum_return_p2"
   ]
  },
  {
   "cell_type": "code",
   "execution_count": null,
   "metadata": {},
   "outputs": [],
   "source": [
    "# Is minimum return of P2 bigger than minimum return of SMI?\n",
    "minimum_return.X > weekly_returns['SMI'].min()"
   ]
  },
  {
   "cell_type": "markdown",
   "metadata": {},
   "source": [
    "### c)"
   ]
  },
  {
   "cell_type": "code",
   "execution_count": null,
   "metadata": {},
   "outputs": [],
   "source": [
    "# Remove old target return constraint\n",
    "m.remove(target_return_constr)"
   ]
  },
  {
   "cell_type": "code",
   "execution_count": null,
   "metadata": {},
   "outputs": [],
   "source": [
    "# Add new target return constraint\n",
    "target_return_constr = m.addConstr(portfolio_return >= target_return)"
   ]
  },
  {
   "cell_type": "code",
   "execution_count": null,
   "metadata": {},
   "outputs": [],
   "source": [
    "# Run optimization\n",
    "m.optimize()"
   ]
  },
  {
   "cell_type": "code",
   "execution_count": null,
   "metadata": {},
   "outputs": [],
   "source": [
    "# Get minimum return of P3\n",
    "minimum_return.X"
   ]
  },
  {
   "cell_type": "code",
   "execution_count": null,
   "metadata": {},
   "outputs": [],
   "source": [
    "# Get weights of stocks in optimal solution\n",
    "weights_p3 = pd.Series([var.X for var in x], index=stocks)"
   ]
  },
  {
   "cell_type": "markdown",
   "metadata": {},
   "source": [
    "## Task  4"
   ]
  },
  {
   "cell_type": "markdown",
   "metadata": {},
   "source": [
    "### a)"
   ]
  },
  {
   "cell_type": "code",
   "execution_count": null,
   "metadata": {},
   "outputs": [],
   "source": [
    "# Define target ESG values\n",
    "S_t_E = 100\n",
    "S_t_S = 100\n",
    "S_t_G = 100"
   ]
  },
  {
   "cell_type": "code",
   "execution_count": null,
   "metadata": {},
   "outputs": [],
   "source": [
    "# Create model\n",
    "m = gb.Model('MM2')"
   ]
  },
  {
   "cell_type": "code",
   "execution_count": null,
   "metadata": {},
   "outputs": [],
   "source": [
    "# Add a variable for each stock\n",
    "x = pd.Series(m.addVars(stocks), index=stocks)"
   ]
  },
  {
   "cell_type": "code",
   "execution_count": null,
   "metadata": {},
   "outputs": [],
   "source": [
    "# Add variables for ESG environmental penalties\n",
    "delta_e1 = m.addVar()\n",
    "delta_e2 = m.addVar()"
   ]
  },
  {
   "cell_type": "code",
   "execution_count": null,
   "metadata": {},
   "outputs": [],
   "source": [
    "# Add variables for ESG social penalties\n",
    "delta_s1 = m.addVar()\n",
    "delta_s2 = m.addVar()"
   ]
  },
  {
   "cell_type": "code",
   "execution_count": null,
   "metadata": {},
   "outputs": [],
   "source": [
    "# Add variables for ESG governance penalties\n",
    "delta_g1 = m.addVar()\n",
    "delta_g2 = m.addVar()"
   ]
  },
  {
   "cell_type": "code",
   "execution_count": null,
   "metadata": {},
   "outputs": [],
   "source": [
    "# Define minimum return\n",
    "minimum_return = minimum_return_p2"
   ]
  },
  {
   "cell_type": "code",
   "execution_count": null,
   "metadata": {},
   "outputs": [],
   "source": [
    "# Define portfolio return\n",
    "portfolio_return = expected_returns.dot(x)"
   ]
  },
  {
   "cell_type": "code",
   "execution_count": null,
   "metadata": {},
   "outputs": [],
   "source": [
    "# Define portfolio environmental score\n",
    "portfolio_environmental_score = scores.loc['ESG Environmental', stocks].dot(x)"
   ]
  },
  {
   "cell_type": "code",
   "execution_count": null,
   "metadata": {},
   "outputs": [],
   "source": [
    "# Define portfolio social score\n",
    "portfolio_social_score = scores.loc['ESG Social', stocks].dot(x)"
   ]
  },
  {
   "cell_type": "code",
   "execution_count": null,
   "metadata": {},
   "outputs": [],
   "source": [
    "# Define portfolio governance score\n",
    "portfolio_governance_score = scores.loc['ESG Governance', stocks].dot(x)"
   ]
  },
  {
   "cell_type": "code",
   "execution_count": null,
   "metadata": {},
   "outputs": [],
   "source": [
    "# Add objective function to model\n",
    "m.setObjective((8 / 10) * delta_e1 + (12 / 10) * delta_e2\n",
    "               + (10 / 10) * delta_s1 + (20 / 10) * delta_s2\n",
    "               + (4 / 10) * delta_g1 + (8 / 10) * delta_g2, gb.GRB.MINIMIZE)"
   ]
  },
  {
   "cell_type": "code",
   "execution_count": null,
   "metadata": {},
   "outputs": [],
   "source": [
    "# Add constraints for ESG penalties to model\n",
    "ESG_environmental_penalty_constraint = m.addConstr(\n",
    "    portfolio_environmental_score >= S_t_E - delta_e1 - delta_e2)\n",
    "ESG_social_penalty_constraint = m.addConstr(\n",
    "    portfolio_social_score >= S_t_S - delta_s1 - delta_s2)\n",
    "ESG_governance_penalty_constraint = m.addConstr(\n",
    "    portfolio_governance_score >= S_t_G - delta_g1 - delta_g2)\n",
    "m.addConstr(delta_e1 <= 10)\n",
    "m.addConstr(delta_s1 <= 10)\n",
    "m.addConstr(delta_g1 <= 10);"
   ]
  },
  {
   "cell_type": "code",
   "execution_count": null,
   "metadata": {},
   "outputs": [],
   "source": [
    "# Add minimum return constraints\n",
    "for l in scenarios:\n",
    "    m.addConstr(weekly_returns.loc[l, stocks].dot(x) >= minimum_return)"
   ]
  },
  {
   "cell_type": "code",
   "execution_count": null,
   "metadata": {},
   "outputs": [],
   "source": [
    "# Add budget constraint\n",
    "m.addConstr(x.sum() == 1);"
   ]
  },
  {
   "cell_type": "code",
   "execution_count": null,
   "metadata": {},
   "outputs": [],
   "source": [
    "# Add blacklist constraints\n",
    "m.addConstr(x.loc['ROCHE'] == 0)\n",
    "m.addConstr(x.loc['NOVARTIS'] == 0);"
   ]
  },
  {
   "cell_type": "code",
   "execution_count": null,
   "metadata": {},
   "outputs": [],
   "source": [
    "# Add target return constraint\n",
    "m.addConstr(portfolio_return >= target_return);"
   ]
  },
  {
   "cell_type": "code",
   "execution_count": null,
   "metadata": {},
   "outputs": [],
   "source": [
    "# Specify Gurobi options\n",
    "m.setParam('OutputFlag', 0)"
   ]
  },
  {
   "cell_type": "code",
   "execution_count": null,
   "metadata": {},
   "outputs": [],
   "source": [
    "# Run optimization\n",
    "m.optimize()"
   ]
  },
  {
   "cell_type": "code",
   "execution_count": null,
   "metadata": {},
   "outputs": [],
   "source": [
    "# Get portfolio return\n",
    "portfolio_return.getValue()"
   ]
  },
  {
   "cell_type": "code",
   "execution_count": null,
   "metadata": {},
   "outputs": [],
   "source": [
    "# Get weights of stocks in optimal solution\n",
    "weights_p4 = pd.Series([var.X for var in x], index=stocks)"
   ]
  },
  {
   "cell_type": "markdown",
   "metadata": {},
   "source": [
    "### b)"
   ]
  },
  {
   "cell_type": "code",
   "execution_count": null,
   "metadata": {},
   "outputs": [],
   "source": [
    "# Get ESG ratings P3\n",
    "scores[stocks].dot(weights_p3)"
   ]
  },
  {
   "cell_type": "code",
   "execution_count": null,
   "metadata": {},
   "outputs": [],
   "source": [
    "# Get ESG Environmental score for P4\n",
    "portfolio_environmental_score.getValue()"
   ]
  },
  {
   "cell_type": "code",
   "execution_count": null,
   "metadata": {},
   "outputs": [],
   "source": [
    "# Get ESG Social score for P4\n",
    "portfolio_social_score.getValue()"
   ]
  },
  {
   "cell_type": "code",
   "execution_count": null,
   "metadata": {},
   "outputs": [],
   "source": [
    "# Get ESG Governance score for P4\n",
    "portfolio_governance_score.getValue()"
   ]
  },
  {
   "cell_type": "markdown",
   "metadata": {},
   "source": [
    "### c)"
   ]
  },
  {
   "cell_type": "code",
   "execution_count": null,
   "metadata": {},
   "outputs": [],
   "source": [
    "# Adjust right-hand side of ESG penalty constraints\n",
    "ESG_environmental_penalty_constraint.rhs = 70\n",
    "ESG_social_penalty_constraint.rhs = 70\n",
    "ESG_governance_penalty_constraint.rhs = 70"
   ]
  },
  {
   "cell_type": "code",
   "execution_count": null,
   "metadata": {},
   "outputs": [],
   "source": [
    "# Specify Gurobi options\n",
    "m.setParam('OutputFlag', 0)"
   ]
  },
  {
   "cell_type": "code",
   "execution_count": null,
   "metadata": {},
   "outputs": [],
   "source": [
    "# Run optimization\n",
    "m.optimize()"
   ]
  },
  {
   "cell_type": "code",
   "execution_count": null,
   "metadata": {},
   "outputs": [],
   "source": [
    "# Get portfolio return\n",
    "portfolio_return.getValue()"
   ]
  },
  {
   "cell_type": "code",
   "execution_count": null,
   "metadata": {},
   "outputs": [],
   "source": [
    "# Get objective function value\n",
    "m.ObjVal"
   ]
  },
  {
   "cell_type": "code",
   "execution_count": null,
   "metadata": {},
   "outputs": [],
   "source": [
    "# Get ESG Environmental score\n",
    "portfolio_environmental_score.getValue()"
   ]
  },
  {
   "cell_type": "code",
   "execution_count": null,
   "metadata": {},
   "outputs": [],
   "source": [
    "# Get ESG Social score\n",
    "portfolio_social_score.getValue()"
   ]
  },
  {
   "cell_type": "code",
   "execution_count": null,
   "metadata": {},
   "outputs": [],
   "source": [
    "# Get ESG Governance score\n",
    "portfolio_governance_score.getValue()"
   ]
  },
  {
   "cell_type": "markdown",
   "metadata": {},
   "source": [
    "### d)"
   ]
  },
  {
   "cell_type": "code",
   "execution_count": null,
   "metadata": {},
   "outputs": [],
   "source": [
    "# Adjust right-hand side of ESG penalty constraints\n",
    "ESG_environmental_penalty_constraint.rhs = 100\n",
    "ESG_social_penalty_constraint.rhs = 0\n",
    "ESG_governance_penalty_constraint.rhs = 0"
   ]
  },
  {
   "cell_type": "code",
   "execution_count": null,
   "metadata": {},
   "outputs": [],
   "source": [
    "# Specify Gurobi options\n",
    "m.setParam('OutputFlag', 0)"
   ]
  },
  {
   "cell_type": "code",
   "execution_count": null,
   "metadata": {},
   "outputs": [],
   "source": [
    "# Run optimization\n",
    "m.optimize()"
   ]
  },
  {
   "cell_type": "code",
   "execution_count": null,
   "metadata": {},
   "outputs": [],
   "source": [
    "# Get portfolio return\n",
    "portfolio_return.getValue()"
   ]
  },
  {
   "cell_type": "code",
   "execution_count": null,
   "metadata": {},
   "outputs": [],
   "source": [
    "# Get objective function value\n",
    "m.ObjVal"
   ]
  },
  {
   "cell_type": "code",
   "execution_count": null,
   "metadata": {},
   "outputs": [],
   "source": [
    "# Get ESG Environmental score\n",
    "portfolio_environmental_score.getValue()"
   ]
  },
  {
   "cell_type": "code",
   "execution_count": null,
   "metadata": {},
   "outputs": [],
   "source": [
    "# Get ESG Social score\n",
    "portfolio_social_score.getValue()"
   ]
  },
  {
   "cell_type": "code",
   "execution_count": null,
   "metadata": {},
   "outputs": [],
   "source": [
    "# Get ESG Governance score\n",
    "portfolio_governance_score.getValue()"
   ]
  },
  {
   "cell_type": "markdown",
   "metadata": {},
   "source": [
    "## Task 5"
   ]
  },
  {
   "cell_type": "markdown",
   "metadata": {},
   "source": [
    "### a)"
   ]
  },
  {
   "cell_type": "code",
   "execution_count": null,
   "metadata": {},
   "outputs": [],
   "source": [
    "# Import prices\n",
    "weekly_prices_evaluation = pd.read_csv('prices18.csv', index_col='date')"
   ]
  },
  {
   "cell_type": "code",
   "execution_count": null,
   "metadata": {},
   "outputs": [],
   "source": [
    "# Get budget\n",
    "budget = 1000000"
   ]
  },
  {
   "cell_type": "code",
   "execution_count": null,
   "metadata": {},
   "outputs": [],
   "source": [
    "# Get budget per stock\n",
    "budget_per_stock_p1 = budget * weights_p1\n",
    "budget_per_stock_p2 = budget * weights_p2\n",
    "budget_per_stock_p3 = budget * weights_p3\n",
    "budget_per_stock_p4 = budget * weights_p4"
   ]
  },
  {
   "cell_type": "code",
   "execution_count": null,
   "metadata": {},
   "outputs": [],
   "source": [
    "# Get unit per stock\n",
    "unit_per_stock_p1 = (budget_per_stock_p1\n",
    "                     / weekly_prices_evaluation.loc['2018-01-05', stocks])\n",
    "unit_per_stock_p2 = (budget_per_stock_p2\n",
    "                     / weekly_prices_evaluation.loc['2018-01-05', stocks])\n",
    "unit_per_stock_p3 = (budget_per_stock_p3\n",
    "                     / weekly_prices_evaluation.loc['2018-01-05', stocks])\n",
    "unit_per_stock_p4 = (budget_per_stock_p4\n",
    "                     / weekly_prices_evaluation.loc['2018-01-05', stocks])\n",
    "unit_smi = (budget\n",
    "            / weekly_prices_evaluation.loc['2018-01-05', 'SMI'])"
   ]
  },
  {
   "cell_type": "code",
   "execution_count": null,
   "metadata": {},
   "outputs": [],
   "source": [
    "# Get list of selected stocks\n",
    "selected_stocks = ['SWISSCOM', 'SIKA']"
   ]
  },
  {
   "cell_type": "code",
   "execution_count": null,
   "metadata": {},
   "outputs": [],
   "source": [
    "# Get units for P1\n",
    "unit_per_stock_p1.loc[selected_stocks]"
   ]
  },
  {
   "cell_type": "code",
   "execution_count": null,
   "metadata": {},
   "outputs": [],
   "source": [
    "# Get units for P2\n",
    "unit_per_stock_p2.loc[selected_stocks]"
   ]
  },
  {
   "cell_type": "code",
   "execution_count": null,
   "metadata": {},
   "outputs": [],
   "source": [
    "# Get units for P3\n",
    "unit_per_stock_p3.loc[selected_stocks]"
   ]
  },
  {
   "cell_type": "code",
   "execution_count": null,
   "metadata": {},
   "outputs": [],
   "source": [
    "# Get units for P4\n",
    "unit_per_stock_p4.loc[selected_stocks]"
   ]
  },
  {
   "cell_type": "markdown",
   "metadata": {},
   "source": [
    "### b)"
   ]
  },
  {
   "cell_type": "code",
   "execution_count": null,
   "metadata": {},
   "outputs": [],
   "source": [
    "# Convert index from string to date\n",
    "weekly_prices_evaluation.index = pd.to_datetime(weekly_prices_evaluation.index)"
   ]
  },
  {
   "cell_type": "code",
   "execution_count": null,
   "metadata": {},
   "outputs": [],
   "source": [
    "# Compute value development of portfolios\n",
    "value_p1_evaluation = weekly_prices_evaluation[stocks].dot(unit_per_stock_p1)\n",
    "value_p2_evaluation = weekly_prices_evaluation[stocks].dot(unit_per_stock_p2)\n",
    "value_p3_evaluation = weekly_prices_evaluation[stocks].dot(unit_per_stock_p3)\n",
    "value_p4_evaluation = weekly_prices_evaluation[stocks].dot(unit_per_stock_p4)\n",
    "value_smi_evaluation = weekly_prices_evaluation['SMI'] * unit_smi"
   ]
  },
  {
   "cell_type": "code",
   "execution_count": null,
   "metadata": {
    "scrolled": true
   },
   "outputs": [],
   "source": [
    "%matplotlib inline\n",
    "# Line plot of value development of portfolios\n",
    "plt.figure(figsize=(15, 5), dpi=120)\n",
    "plt.plot(value_p1_evaluation, label='P1')\n",
    "plt.plot(value_p2_evaluation, label='P2')\n",
    "plt.plot(value_p3_evaluation, label='P3')\n",
    "plt.plot(value_p4_evaluation, label='P4')\n",
    "plt.plot(value_smi_evaluation, label='SMI')\n",
    "plt.axhline(1000000, color='b', linestyle='--')\n",
    "plt.xlabel('Date')\n",
    "plt.ylabel('Value CHF')\n",
    "plt.legend();"
   ]
  },
  {
   "cell_type": "code",
   "execution_count": null,
   "metadata": {},
   "outputs": [],
   "source": [
    "# Get values on 28th December, 2018\n",
    "print('Value P1:', value_p1_evaluation.loc['2018-12-28'].round(2))\n",
    "print('Value P2:', value_p2_evaluation.loc['2018-12-28'].round(2))\n",
    "print('Value P3:', value_p3_evaluation.loc['2018-12-28'].round(2))\n",
    "print('Value P4:', value_p4_evaluation.loc['2018-12-28'].round(2))\n",
    "print('Value SMI:', value_smi_evaluation.loc['2018-12-28'].round(2))"
   ]
  },
  {
   "cell_type": "markdown",
   "metadata": {},
   "source": [
    "### c)"
   ]
  },
  {
   "cell_type": "code",
   "execution_count": null,
   "metadata": {},
   "outputs": [],
   "source": [
    "# Get unit per stock (assumption: investment of 1,000,000 CHF at beginning of year 2016)\n",
    "unit_per_stock_p1 = (budget_per_stock_p1\n",
    "                     / weekly_prices.loc['2016-01-01', stocks])\n",
    "unit_per_stock_p2 = (budget_per_stock_p2\n",
    "                     / weekly_prices.loc['2016-01-01', stocks])\n",
    "unit_per_stock_p3 = (budget_per_stock_p3\n",
    "                     / weekly_prices.loc['2016-01-01', stocks])\n",
    "unit_per_stock_p4 = (budget_per_stock_p4\n",
    "                     / weekly_prices.loc['2016-01-01', stocks])\n",
    "unit_smi = (budget\n",
    "            / weekly_prices.loc['2016-01-01', 'SMI'])"
   ]
  },
  {
   "cell_type": "code",
   "execution_count": null,
   "metadata": {},
   "outputs": [],
   "source": [
    "# Compute value development of portfolios\n",
    "value_p1 = weekly_prices[stocks].dot(unit_per_stock_p1)\n",
    "value_p2 = weekly_prices[stocks].dot(unit_per_stock_p2)\n",
    "value_p3 = weekly_prices[stocks].dot(unit_per_stock_p3)\n",
    "value_p4 = weekly_prices[stocks].dot(unit_per_stock_p4)\n",
    "value_smi = weekly_prices['SMI'] * unit_smi"
   ]
  },
  {
   "cell_type": "code",
   "execution_count": null,
   "metadata": {},
   "outputs": [],
   "source": [
    "# Compute weekly returns for P1-P4\n",
    "return_p1 = value_p1 / value_p1.shift(1) - 1\n",
    "return_p2 = value_p2 / value_p2.shift(1) - 1\n",
    "return_p3 = value_p3 / value_p3.shift(1) - 1\n",
    "return_p4 = value_p4 / value_p4.shift(1) - 1\n",
    "return_smi = value_smi / value_smi.shift(1) - 1"
   ]
  },
  {
   "cell_type": "code",
   "execution_count": null,
   "metadata": {},
   "outputs": [],
   "source": [
    "# Drop NA-return in first period\n",
    "return_p1 = return_p1.dropna()\n",
    "return_p2 = return_p2.dropna()\n",
    "return_p3 = return_p3.dropna()\n",
    "return_p4 = return_p4.dropna()\n",
    "return_smi = return_smi.dropna()"
   ]
  },
  {
   "cell_type": "code",
   "execution_count": null,
   "metadata": {},
   "outputs": [],
   "source": [
    "# Get average portfolio return (in-sample)\n",
    "print('In-sample')\n",
    "print('Average return P1:', return_p1.mean())\n",
    "print('Average return P2:', return_p2.mean())\n",
    "print('Average return P3:', return_p3.mean())\n",
    "print('Average return P4:', return_p4.mean())\n",
    "print('Average return SMI:', return_smi.mean())"
   ]
  },
  {
   "cell_type": "code",
   "execution_count": null,
   "metadata": {},
   "outputs": [],
   "source": [
    "# Get minimum portfolio return (in-sample)\n",
    "print('In-sample')\n",
    "print('Minimum return P1:', return_p1.min())\n",
    "print('Minimum return P2:', return_p2.min())\n",
    "print('Minimum return P3:', return_p3.min())\n",
    "print('Minimum return P4:', return_p4.min())\n",
    "print('Minimum return SMI:', return_smi.min())"
   ]
  },
  {
   "cell_type": "markdown",
   "metadata": {},
   "source": [
    "### d)"
   ]
  },
  {
   "cell_type": "code",
   "execution_count": null,
   "metadata": {},
   "outputs": [],
   "source": [
    "# Compute weekly returns for P1-P4\n",
    "return_p1_evaluation = value_p1_evaluation / value_p1_evaluation.shift(1) - 1\n",
    "return_p2_evaluation = value_p2_evaluation / value_p2_evaluation.shift(1) - 1\n",
    "return_p3_evaluation = value_p3_evaluation / value_p3_evaluation.shift(1) - 1\n",
    "return_p4_evaluation = value_p4_evaluation / value_p4_evaluation.shift(1) - 1\n",
    "return_smi_evaluation = value_smi_evaluation / value_smi_evaluation.shift(1) - 1"
   ]
  },
  {
   "cell_type": "code",
   "execution_count": null,
   "metadata": {},
   "outputs": [],
   "source": [
    "# Drop NA-return in first period\n",
    "return_p1_evaluation = return_p1_evaluation.dropna()\n",
    "return_p2_evaluation = return_p2_evaluation.dropna()\n",
    "return_p3_evaluation = return_p3_evaluation.dropna()\n",
    "return_p4_evaluation = return_p4_evaluation.dropna()\n",
    "return_smi_evaluation = return_smi_evaluation.dropna()"
   ]
  },
  {
   "cell_type": "code",
   "execution_count": null,
   "metadata": {},
   "outputs": [],
   "source": [
    "# Get average portfolio return (out-of-sample)\n",
    "print('Out-of-sample')\n",
    "print('Average return P1:', return_p1_evaluation.mean())\n",
    "print('Average return P2:', return_p2_evaluation.mean())\n",
    "print('Average return P3:', return_p3_evaluation.mean())\n",
    "print('Average return P4:', return_p4_evaluation.mean())\n",
    "print('Average return SMI:', return_smi_evaluation.mean())"
   ]
  },
  {
   "cell_type": "code",
   "execution_count": null,
   "metadata": {},
   "outputs": [],
   "source": [
    "# Get minimum portfolio return (out-of-sample)\n",
    "print('Out-of-sample')\n",
    "print('Minimum return P1:', return_p1_evaluation.min())\n",
    "print('Minimum return P2:', return_p2_evaluation.min())\n",
    "print('Minimum return P3:', return_p3_evaluation.min())\n",
    "print('Minimum return P4:', return_p4_evaluation.min())\n",
    "print('Minimum return SMI:', return_smi_evaluation.min())"
   ]
  },
  {
   "cell_type": "code",
   "execution_count": null,
   "metadata": {},
   "outputs": [],
   "source": []
  }
 ],
 "metadata": {
  "kernelspec": {
   "display_name": "Python 3",
   "language": "python",
   "name": "python3"
  },
  "language_info": {
   "codemirror_mode": {
    "name": "ipython",
    "version": 3
   },
   "file_extension": ".py",
   "mimetype": "text/x-python",
   "name": "python",
   "nbconvert_exporter": "python",
   "pygments_lexer": "ipython3",
   "version": "3.7.6"
  }
 },
 "nbformat": 4,
 "nbformat_minor": 2
}
