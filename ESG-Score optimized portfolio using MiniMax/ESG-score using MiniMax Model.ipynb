{
 "cells": [
  {
   "cell_type": "markdown",
   "metadata": {},
   "source": [
    "# ESG-score using a MiniMax Model"
   ]
  },
  {
   "cell_type": "markdown",
   "metadata": {},
   "source": [
    "## Problem setting:"
   ]
  },
  {
   "cell_type": "markdown",
   "metadata": {},
   "source": [
    "As a Business-idea firm xy plans to launch a new app, in which clients are able to invest in a socially responsible manner. The app has to be able to compute for every portfolio an Environmental, Social and Governance (ESG) score between 0 and 100, where a higher score indicates a more responsible investment. Using an optimization process for each client a customized portfolio that takes into account the provided target values should be derived. Since firm xy is based in Switzerland, the initial investments universe comprises the stocks listed on SMI. The files prices1617.csv, prices18.csv and scores.csv contain the weekly closing prices of the SMI and its constituents for the years 2016-2017 and 2018 as well as the latest ESG scores for all SMI constituents, respectively."
   ]
  },
  {
   "cell_type": "code",
   "execution_count": 1,
   "metadata": {},
   "outputs": [],
   "source": [
    "# Import packages\n",
    "import pandas as pd\n",
    "import numpy as np\n",
    "import gurobipy as gb\n",
    "import matplotlib.pyplot as plt"
   ]
  },
  {
   "cell_type": "code",
   "execution_count": 2,
   "metadata": {},
   "outputs": [],
   "source": [
    "# Define precision of number display\n",
    "pd.set_option('precision', 5)"
   ]
  },
  {
   "cell_type": "code",
   "execution_count": 3,
   "metadata": {},
   "outputs": [
    {
     "data": {
      "text/html": [
       "<div>\n",
       "<style scoped>\n",
       "    .dataframe tbody tr th:only-of-type {\n",
       "        vertical-align: middle;\n",
       "    }\n",
       "\n",
       "    .dataframe tbody tr th {\n",
       "        vertical-align: top;\n",
       "    }\n",
       "\n",
       "    .dataframe thead th {\n",
       "        text-align: right;\n",
       "    }\n",
       "</style>\n",
       "<table border=\"1\" class=\"dataframe\">\n",
       "  <thead>\n",
       "    <tr style=\"text-align: right;\">\n",
       "      <th></th>\n",
       "      <th>SGS</th>\n",
       "      <th>SWISSCOM</th>\n",
       "      <th>GIVAUDAN</th>\n",
       "      <th>ZURICH INSURANCE</th>\n",
       "      <th>NOVARTIS</th>\n",
       "      <th>ROCHE</th>\n",
       "      <th>CREDIT SUISSE</th>\n",
       "      <th>ADECCO</th>\n",
       "      <th>LAFARGEHOLCIM</th>\n",
       "      <th>ABB</th>\n",
       "      <th>...</th>\n",
       "      <th>LONZA</th>\n",
       "      <th>SWISS LIFE</th>\n",
       "      <th>GEBERIT</th>\n",
       "      <th>NESTLE</th>\n",
       "      <th>JULIUS BAER</th>\n",
       "      <th>SWISS RE</th>\n",
       "      <th>RICHEMONT</th>\n",
       "      <th>UBS</th>\n",
       "      <th>SIKA</th>\n",
       "      <th>SMI</th>\n",
       "    </tr>\n",
       "    <tr>\n",
       "      <th>date</th>\n",
       "      <th></th>\n",
       "      <th></th>\n",
       "      <th></th>\n",
       "      <th></th>\n",
       "      <th></th>\n",
       "      <th></th>\n",
       "      <th></th>\n",
       "      <th></th>\n",
       "      <th></th>\n",
       "      <th></th>\n",
       "      <th></th>\n",
       "      <th></th>\n",
       "      <th></th>\n",
       "      <th></th>\n",
       "      <th></th>\n",
       "      <th></th>\n",
       "      <th></th>\n",
       "      <th></th>\n",
       "      <th></th>\n",
       "      <th></th>\n",
       "      <th></th>\n",
       "    </tr>\n",
       "  </thead>\n",
       "  <tbody>\n",
       "    <tr>\n",
       "      <th>2016-01-01</th>\n",
       "      <td>1911</td>\n",
       "      <td>503.0</td>\n",
       "      <td>1823</td>\n",
       "      <td>258.4</td>\n",
       "      <td>86.80</td>\n",
       "      <td>276.4</td>\n",
       "      <td>20.929</td>\n",
       "      <td>68.047</td>\n",
       "      <td>50.30</td>\n",
       "      <td>17.96</td>\n",
       "      <td>...</td>\n",
       "      <td>151.078</td>\n",
       "      <td>271.3</td>\n",
       "      <td>340.2</td>\n",
       "      <td>74.55</td>\n",
       "      <td>48.66</td>\n",
       "      <td>98.15</td>\n",
       "      <td>72.10</td>\n",
       "      <td>19.52</td>\n",
       "      <td>60.335</td>\n",
       "      <td>8818.09</td>\n",
       "    </tr>\n",
       "    <tr>\n",
       "      <th>2016-01-08</th>\n",
       "      <td>1757</td>\n",
       "      <td>488.3</td>\n",
       "      <td>1714</td>\n",
       "      <td>241.4</td>\n",
       "      <td>82.10</td>\n",
       "      <td>263.0</td>\n",
       "      <td>19.028</td>\n",
       "      <td>62.368</td>\n",
       "      <td>46.00</td>\n",
       "      <td>16.43</td>\n",
       "      <td>...</td>\n",
       "      <td>143.668</td>\n",
       "      <td>257.2</td>\n",
       "      <td>318.1</td>\n",
       "      <td>70.30</td>\n",
       "      <td>44.18</td>\n",
       "      <td>93.25</td>\n",
       "      <td>66.05</td>\n",
       "      <td>17.46</td>\n",
       "      <td>58.584</td>\n",
       "      <td>8257.28</td>\n",
       "    </tr>\n",
       "    <tr>\n",
       "      <th>2016-01-15</th>\n",
       "      <td>1770</td>\n",
       "      <td>478.2</td>\n",
       "      <td>1772</td>\n",
       "      <td>242.8</td>\n",
       "      <td>80.35</td>\n",
       "      <td>256.5</td>\n",
       "      <td>18.054</td>\n",
       "      <td>59.356</td>\n",
       "      <td>42.26</td>\n",
       "      <td>16.18</td>\n",
       "      <td>...</td>\n",
       "      <td>138.017</td>\n",
       "      <td>262.3</td>\n",
       "      <td>332.3</td>\n",
       "      <td>70.10</td>\n",
       "      <td>42.02</td>\n",
       "      <td>92.60</td>\n",
       "      <td>63.10</td>\n",
       "      <td>16.71</td>\n",
       "      <td>58.451</td>\n",
       "      <td>8107.13</td>\n",
       "    </tr>\n",
       "    <tr>\n",
       "      <th>2016-01-22</th>\n",
       "      <td>1932</td>\n",
       "      <td>489.0</td>\n",
       "      <td>1812</td>\n",
       "      <td>224.4</td>\n",
       "      <td>82.90</td>\n",
       "      <td>265.3</td>\n",
       "      <td>17.359</td>\n",
       "      <td>60.837</td>\n",
       "      <td>44.12</td>\n",
       "      <td>16.77</td>\n",
       "      <td>...</td>\n",
       "      <td>143.575</td>\n",
       "      <td>256.8</td>\n",
       "      <td>342.4</td>\n",
       "      <td>72.10</td>\n",
       "      <td>42.59</td>\n",
       "      <td>92.60</td>\n",
       "      <td>64.35</td>\n",
       "      <td>16.83</td>\n",
       "      <td>58.818</td>\n",
       "      <td>8271.11</td>\n",
       "    </tr>\n",
       "    <tr>\n",
       "      <th>2016-01-29</th>\n",
       "      <td>1983</td>\n",
       "      <td>507.5</td>\n",
       "      <td>1907</td>\n",
       "      <td>225.8</td>\n",
       "      <td>78.50</td>\n",
       "      <td>263.9</td>\n",
       "      <td>17.369</td>\n",
       "      <td>61.726</td>\n",
       "      <td>42.92</td>\n",
       "      <td>17.57</td>\n",
       "      <td>...</td>\n",
       "      <td>144.779</td>\n",
       "      <td>259.6</td>\n",
       "      <td>361.8</td>\n",
       "      <td>75.20</td>\n",
       "      <td>43.25</td>\n",
       "      <td>94.80</td>\n",
       "      <td>66.25</td>\n",
       "      <td>16.83</td>\n",
       "      <td>60.951</td>\n",
       "      <td>8319.81</td>\n",
       "    </tr>\n",
       "  </tbody>\n",
       "</table>\n",
       "<p>5 rows × 21 columns</p>\n",
       "</div>"
      ],
      "text/plain": [
       "             SGS  SWISSCOM  GIVAUDAN  ZURICH INSURANCE  NOVARTIS  ROCHE  \\\n",
       "date                                                                      \n",
       "2016-01-01  1911     503.0      1823             258.4     86.80  276.4   \n",
       "2016-01-08  1757     488.3      1714             241.4     82.10  263.0   \n",
       "2016-01-15  1770     478.2      1772             242.8     80.35  256.5   \n",
       "2016-01-22  1932     489.0      1812             224.4     82.90  265.3   \n",
       "2016-01-29  1983     507.5      1907             225.8     78.50  263.9   \n",
       "\n",
       "            CREDIT SUISSE  ADECCO  LAFARGEHOLCIM    ABB  ...    LONZA  \\\n",
       "date                                                     ...            \n",
       "2016-01-01         20.929  68.047          50.30  17.96  ...  151.078   \n",
       "2016-01-08         19.028  62.368          46.00  16.43  ...  143.668   \n",
       "2016-01-15         18.054  59.356          42.26  16.18  ...  138.017   \n",
       "2016-01-22         17.359  60.837          44.12  16.77  ...  143.575   \n",
       "2016-01-29         17.369  61.726          42.92  17.57  ...  144.779   \n",
       "\n",
       "            SWISS LIFE  GEBERIT  NESTLE  JULIUS BAER  SWISS RE  RICHEMONT  \\\n",
       "date                                                                        \n",
       "2016-01-01       271.3    340.2   74.55        48.66     98.15      72.10   \n",
       "2016-01-08       257.2    318.1   70.30        44.18     93.25      66.05   \n",
       "2016-01-15       262.3    332.3   70.10        42.02     92.60      63.10   \n",
       "2016-01-22       256.8    342.4   72.10        42.59     92.60      64.35   \n",
       "2016-01-29       259.6    361.8   75.20        43.25     94.80      66.25   \n",
       "\n",
       "              UBS    SIKA      SMI  \n",
       "date                                \n",
       "2016-01-01  19.52  60.335  8818.09  \n",
       "2016-01-08  17.46  58.584  8257.28  \n",
       "2016-01-15  16.71  58.451  8107.13  \n",
       "2016-01-22  16.83  58.818  8271.11  \n",
       "2016-01-29  16.83  60.951  8319.81  \n",
       "\n",
       "[5 rows x 21 columns]"
      ]
     },
     "execution_count": 3,
     "metadata": {},
     "output_type": "execute_result"
    }
   ],
   "source": [
    "# Import prices\n",
    "weekly_prices = pd.read_csv('prices1617.csv', index_col='date')\n",
    "# Look at first five rows\n",
    "weekly_prices.head()"
   ]
  },
  {
   "cell_type": "code",
   "execution_count": 4,
   "metadata": {},
   "outputs": [
    {
     "data": {
      "text/html": [
       "<div>\n",
       "<style scoped>\n",
       "    .dataframe tbody tr th:only-of-type {\n",
       "        vertical-align: middle;\n",
       "    }\n",
       "\n",
       "    .dataframe tbody tr th {\n",
       "        vertical-align: top;\n",
       "    }\n",
       "\n",
       "    .dataframe thead th {\n",
       "        text-align: right;\n",
       "    }\n",
       "</style>\n",
       "<table border=\"1\" class=\"dataframe\">\n",
       "  <thead>\n",
       "    <tr style=\"text-align: right;\">\n",
       "      <th></th>\n",
       "      <th>SGS</th>\n",
       "      <th>SWISSCOM</th>\n",
       "      <th>GIVAUDAN</th>\n",
       "      <th>ZURICH INSURANCE</th>\n",
       "      <th>NOVARTIS</th>\n",
       "      <th>ROCHE</th>\n",
       "      <th>CREDIT SUISSE</th>\n",
       "      <th>ADECCO</th>\n",
       "      <th>LAFARGEHOLCIM</th>\n",
       "      <th>ABB</th>\n",
       "      <th>...</th>\n",
       "      <th>LONZA</th>\n",
       "      <th>SWISS LIFE</th>\n",
       "      <th>GEBERIT</th>\n",
       "      <th>NESTLE</th>\n",
       "      <th>JULIUS BAER</th>\n",
       "      <th>SWISS RE</th>\n",
       "      <th>RICHEMONT</th>\n",
       "      <th>UBS</th>\n",
       "      <th>SIKA</th>\n",
       "      <th>SMI</th>\n",
       "    </tr>\n",
       "    <tr>\n",
       "      <th>date</th>\n",
       "      <th></th>\n",
       "      <th></th>\n",
       "      <th></th>\n",
       "      <th></th>\n",
       "      <th></th>\n",
       "      <th></th>\n",
       "      <th></th>\n",
       "      <th></th>\n",
       "      <th></th>\n",
       "      <th></th>\n",
       "      <th></th>\n",
       "      <th></th>\n",
       "      <th></th>\n",
       "      <th></th>\n",
       "      <th></th>\n",
       "      <th></th>\n",
       "      <th></th>\n",
       "      <th></th>\n",
       "      <th></th>\n",
       "      <th></th>\n",
       "      <th></th>\n",
       "    </tr>\n",
       "  </thead>\n",
       "  <tbody>\n",
       "    <tr>\n",
       "      <th>2016-01-08</th>\n",
       "      <td>-0.08059</td>\n",
       "      <td>-0.02922</td>\n",
       "      <td>-0.05979</td>\n",
       "      <td>-0.06579</td>\n",
       "      <td>-0.05415</td>\n",
       "      <td>-0.04848</td>\n",
       "      <td>-0.09083</td>\n",
       "      <td>-0.08346</td>\n",
       "      <td>-0.08549</td>\n",
       "      <td>-0.08519</td>\n",
       "      <td>...</td>\n",
       "      <td>-0.04905</td>\n",
       "      <td>-0.05197</td>\n",
       "      <td>-0.06496</td>\n",
       "      <td>-0.05701</td>\n",
       "      <td>-0.09207</td>\n",
       "      <td>-0.04992</td>\n",
       "      <td>-0.08391</td>\n",
       "      <td>-0.10553</td>\n",
       "      <td>-0.02902</td>\n",
       "      <td>-0.06360</td>\n",
       "    </tr>\n",
       "    <tr>\n",
       "      <th>2016-01-15</th>\n",
       "      <td>0.00740</td>\n",
       "      <td>-0.02068</td>\n",
       "      <td>0.03384</td>\n",
       "      <td>0.00580</td>\n",
       "      <td>-0.02132</td>\n",
       "      <td>-0.02471</td>\n",
       "      <td>-0.05119</td>\n",
       "      <td>-0.04829</td>\n",
       "      <td>-0.08130</td>\n",
       "      <td>-0.01522</td>\n",
       "      <td>...</td>\n",
       "      <td>-0.03933</td>\n",
       "      <td>0.01983</td>\n",
       "      <td>0.04464</td>\n",
       "      <td>-0.00284</td>\n",
       "      <td>-0.04889</td>\n",
       "      <td>-0.00697</td>\n",
       "      <td>-0.04466</td>\n",
       "      <td>-0.04296</td>\n",
       "      <td>-0.00227</td>\n",
       "      <td>-0.01818</td>\n",
       "    </tr>\n",
       "    <tr>\n",
       "      <th>2016-01-22</th>\n",
       "      <td>0.09153</td>\n",
       "      <td>0.02258</td>\n",
       "      <td>0.02257</td>\n",
       "      <td>-0.07578</td>\n",
       "      <td>0.03174</td>\n",
       "      <td>0.03431</td>\n",
       "      <td>-0.03850</td>\n",
       "      <td>0.02495</td>\n",
       "      <td>0.04401</td>\n",
       "      <td>0.03646</td>\n",
       "      <td>...</td>\n",
       "      <td>0.04027</td>\n",
       "      <td>-0.02097</td>\n",
       "      <td>0.03039</td>\n",
       "      <td>0.02853</td>\n",
       "      <td>0.01356</td>\n",
       "      <td>0.00000</td>\n",
       "      <td>0.01981</td>\n",
       "      <td>0.00718</td>\n",
       "      <td>0.00628</td>\n",
       "      <td>0.02023</td>\n",
       "    </tr>\n",
       "    <tr>\n",
       "      <th>2016-01-29</th>\n",
       "      <td>0.02640</td>\n",
       "      <td>0.03783</td>\n",
       "      <td>0.05243</td>\n",
       "      <td>0.00624</td>\n",
       "      <td>-0.05308</td>\n",
       "      <td>-0.00528</td>\n",
       "      <td>0.00058</td>\n",
       "      <td>0.01461</td>\n",
       "      <td>-0.02720</td>\n",
       "      <td>0.04770</td>\n",
       "      <td>...</td>\n",
       "      <td>0.00839</td>\n",
       "      <td>0.01090</td>\n",
       "      <td>0.05666</td>\n",
       "      <td>0.04300</td>\n",
       "      <td>0.01550</td>\n",
       "      <td>0.02376</td>\n",
       "      <td>0.02953</td>\n",
       "      <td>0.00000</td>\n",
       "      <td>0.03626</td>\n",
       "      <td>0.00589</td>\n",
       "    </tr>\n",
       "    <tr>\n",
       "      <th>2016-02-05</th>\n",
       "      <td>-0.00050</td>\n",
       "      <td>-0.04926</td>\n",
       "      <td>-0.02727</td>\n",
       "      <td>-0.05492</td>\n",
       "      <td>-0.05860</td>\n",
       "      <td>-0.04433</td>\n",
       "      <td>-0.16944</td>\n",
       "      <td>-0.04240</td>\n",
       "      <td>-0.09110</td>\n",
       "      <td>0.00171</td>\n",
       "      <td>...</td>\n",
       "      <td>-0.06206</td>\n",
       "      <td>-0.06895</td>\n",
       "      <td>-0.02073</td>\n",
       "      <td>-0.02460</td>\n",
       "      <td>-0.08393</td>\n",
       "      <td>-0.05432</td>\n",
       "      <td>-0.01132</td>\n",
       "      <td>-0.09626</td>\n",
       "      <td>-0.00710</td>\n",
       "      <td>-0.04323</td>\n",
       "    </tr>\n",
       "  </tbody>\n",
       "</table>\n",
       "<p>5 rows × 21 columns</p>\n",
       "</div>"
      ],
      "text/plain": [
       "                SGS  SWISSCOM  GIVAUDAN  ZURICH INSURANCE  NOVARTIS    ROCHE  \\\n",
       "date                                                                           \n",
       "2016-01-08 -0.08059  -0.02922  -0.05979          -0.06579  -0.05415 -0.04848   \n",
       "2016-01-15  0.00740  -0.02068   0.03384           0.00580  -0.02132 -0.02471   \n",
       "2016-01-22  0.09153   0.02258   0.02257          -0.07578   0.03174  0.03431   \n",
       "2016-01-29  0.02640   0.03783   0.05243           0.00624  -0.05308 -0.00528   \n",
       "2016-02-05 -0.00050  -0.04926  -0.02727          -0.05492  -0.05860 -0.04433   \n",
       "\n",
       "            CREDIT SUISSE   ADECCO  LAFARGEHOLCIM      ABB  ...    LONZA  \\\n",
       "date                                                        ...            \n",
       "2016-01-08       -0.09083 -0.08346       -0.08549 -0.08519  ... -0.04905   \n",
       "2016-01-15       -0.05119 -0.04829       -0.08130 -0.01522  ... -0.03933   \n",
       "2016-01-22       -0.03850  0.02495        0.04401  0.03646  ...  0.04027   \n",
       "2016-01-29        0.00058  0.01461       -0.02720  0.04770  ...  0.00839   \n",
       "2016-02-05       -0.16944 -0.04240       -0.09110  0.00171  ... -0.06206   \n",
       "\n",
       "            SWISS LIFE  GEBERIT   NESTLE  JULIUS BAER  SWISS RE  RICHEMONT  \\\n",
       "date                                                                         \n",
       "2016-01-08    -0.05197 -0.06496 -0.05701     -0.09207  -0.04992   -0.08391   \n",
       "2016-01-15     0.01983  0.04464 -0.00284     -0.04889  -0.00697   -0.04466   \n",
       "2016-01-22    -0.02097  0.03039  0.02853      0.01356   0.00000    0.01981   \n",
       "2016-01-29     0.01090  0.05666  0.04300      0.01550   0.02376    0.02953   \n",
       "2016-02-05    -0.06895 -0.02073 -0.02460     -0.08393  -0.05432   -0.01132   \n",
       "\n",
       "                UBS     SIKA      SMI  \n",
       "date                                   \n",
       "2016-01-08 -0.10553 -0.02902 -0.06360  \n",
       "2016-01-15 -0.04296 -0.00227 -0.01818  \n",
       "2016-01-22  0.00718  0.00628  0.02023  \n",
       "2016-01-29  0.00000  0.03626  0.00589  \n",
       "2016-02-05 -0.09626 -0.00710 -0.04323  \n",
       "\n",
       "[5 rows x 21 columns]"
      ]
     },
     "execution_count": 4,
     "metadata": {},
     "output_type": "execute_result"
    }
   ],
   "source": [
    "# Compute weekly returns\n",
    "weekly_returns = weekly_prices / weekly_prices.shift(1) - 1\n",
    "# Drop NA-return (first period)\n",
    "weekly_returns = weekly_returns.dropna()\n",
    "# Look at first five rows\n",
    "weekly_returns.head()"
   ]
  },
  {
   "cell_type": "code",
   "execution_count": 5,
   "metadata": {},
   "outputs": [
    {
     "data": {
      "text/plain": [
       "SGS                 0.00303\n",
       "SWISSCOM            0.00048\n",
       "GIVAUDAN            0.00229\n",
       "ZURICH INSURANCE    0.00178\n",
       "NOVARTIS           -0.00014\n",
       "ROCHE              -0.00075\n",
       "CREDIT SUISSE      -0.00044\n",
       "ADECCO              0.00132\n",
       "LAFARGEHOLCIM       0.00155\n",
       "ABB                 0.00394\n",
       "SWATCH              0.00190\n",
       "LONZA               0.00575\n",
       "SWISS LIFE          0.00269\n",
       "GEBERIT             0.00250\n",
       "NESTLE              0.00129\n",
       "JULIUS BAER         0.00250\n",
       "SWISS RE           -0.00038\n",
       "RICHEMONT           0.00243\n",
       "UBS                 0.00002\n",
       "SIKA                0.00768\n",
       "SMI                 0.00076\n",
       "dtype: float64"
      ]
     },
     "execution_count": 5,
     "metadata": {},
     "output_type": "execute_result"
    }
   ],
   "source": [
    "# Compute expected returns\n",
    "all_expected_returns = weekly_returns.mean()\n",
    "all_expected_returns"
   ]
  },
  {
   "cell_type": "code",
   "execution_count": 6,
   "metadata": {},
   "outputs": [],
   "source": [
    "# Get array of stocks (without index SMI)\n",
    "stocks = weekly_returns.columns.drop('SMI')"
   ]
  },
  {
   "cell_type": "markdown",
   "metadata": {},
   "source": [
    "## Portfolio 1 (P1):\n",
    "As a first idea for a portfolio selection an equally weighted portfolio approach is chosen. This portfolio is referred by P1.\n",
    "In a first step the variance, mean-absolute deviation, Beta (relative to SMI), minimum return and the expected downside $(r_t =1\\%)$ for the portfolio P1 as well as for the SMI are computed."
   ]
  },
  {
   "cell_type": "code",
   "execution_count": 7,
   "metadata": {},
   "outputs": [],
   "source": [
    "# Create equally weighted portfolio\n",
    "weights_p1 = pd.Series(1 / len(stocks), index=stocks)\n",
    "weekly_returns['P1'] = weekly_returns[stocks].dot(weights_p1)"
   ]
  },
  {
   "cell_type": "code",
   "execution_count": 8,
   "metadata": {
    "scrolled": true
   },
   "outputs": [
    {
     "data": {
      "text/plain": [
       "P1     0.00037\n",
       "SMI    0.00032\n",
       "dtype: float64"
      ]
     },
     "execution_count": 8,
     "metadata": {},
     "output_type": "execute_result"
    }
   ],
   "source": [
    "# Calculate variance\n",
    "weekly_returns[['P1', 'SMI']].var()"
   ]
  },
  {
   "cell_type": "code",
   "execution_count": 9,
   "metadata": {},
   "outputs": [
    {
     "data": {
      "text/plain": [
       "P1     0.01401\n",
       "SMI    0.01338\n",
       "dtype: float64"
      ]
     },
     "execution_count": 9,
     "metadata": {},
     "output_type": "execute_result"
    }
   ],
   "source": [
    "# Calculate mean-absolute deviation\n",
    "weekly_returns[['P1', 'SMI']].mad()"
   ]
  },
  {
   "cell_type": "code",
   "execution_count": 10,
   "metadata": {},
   "outputs": [
    {
     "data": {
      "text/plain": [
       "0.9763988106997943"
      ]
     },
     "execution_count": 10,
     "metadata": {},
     "output_type": "execute_result"
    }
   ],
   "source": [
    "# Compute the beta of P1\n",
    "weekly_returns['P1'].cov(weekly_returns['SMI']) / weekly_returns['SMI'].var()"
   ]
  },
  {
   "cell_type": "code",
   "execution_count": 11,
   "metadata": {},
   "outputs": [
    {
     "data": {
      "text/plain": [
       "1.0"
      ]
     },
     "execution_count": 11,
     "metadata": {},
     "output_type": "execute_result"
    }
   ],
   "source": [
    "# Compute the beta of SMI\n",
    "weekly_returns['SMI'].cov(weekly_returns['SMI']) / weekly_returns['SMI'].var()"
   ]
  },
  {
   "cell_type": "code",
   "execution_count": 12,
   "metadata": {
    "scrolled": false
   },
   "outputs": [
    {
     "data": {
      "text/plain": [
       "P1    -0.06835\n",
       "SMI   -0.06360\n",
       "dtype: float64"
      ]
     },
     "execution_count": 12,
     "metadata": {},
     "output_type": "execute_result"
    }
   ],
   "source": [
    "# Compute the minimum return\n",
    "weekly_returns[['P1', 'SMI']].min()"
   ]
  },
  {
   "cell_type": "code",
   "execution_count": 13,
   "metadata": {},
   "outputs": [
    {
     "data": {
      "text/plain": [
       "P1     0.01160\n",
       "SMI    0.01221\n",
       "dtype: float64"
      ]
     },
     "execution_count": 13,
     "metadata": {},
     "output_type": "execute_result"
    }
   ],
   "source": [
    "# Define target return\n",
    "target_return = 0.01\n",
    "\n",
    "# Compute expected downside with respect to given target return\n",
    "np.maximum(0, -(weekly_returns[['P1', 'SMI']] - target_return)\n",
    "          ).sum() / weekly_returns['P1'].size"
   ]
  },
  {
   "cell_type": "markdown",
   "metadata": {},
   "source": [
    "### Note:\n",
    "In a next step the ESG Environmental, ESG Governance and ESG Social scores of P1 are computed."
   ]
  },
  {
   "cell_type": "code",
   "execution_count": 14,
   "metadata": {},
   "outputs": [],
   "source": [
    "# Import ratings\n",
    "scores = pd.read_csv('scores.csv', index_col='scores')"
   ]
  },
  {
   "cell_type": "code",
   "execution_count": 15,
   "metadata": {},
   "outputs": [
    {
     "data": {
      "text/html": [
       "<div>\n",
       "<style scoped>\n",
       "    .dataframe tbody tr th:only-of-type {\n",
       "        vertical-align: middle;\n",
       "    }\n",
       "\n",
       "    .dataframe tbody tr th {\n",
       "        vertical-align: top;\n",
       "    }\n",
       "\n",
       "    .dataframe thead th {\n",
       "        text-align: right;\n",
       "    }\n",
       "</style>\n",
       "<table border=\"1\" class=\"dataframe\">\n",
       "  <thead>\n",
       "    <tr style=\"text-align: right;\">\n",
       "      <th></th>\n",
       "      <th>SGS</th>\n",
       "      <th>SWISSCOM</th>\n",
       "      <th>GIVAUDAN</th>\n",
       "      <th>ZURICH INSURANCE</th>\n",
       "      <th>NOVARTIS</th>\n",
       "      <th>ROCHE</th>\n",
       "      <th>CREDIT SUISSE</th>\n",
       "      <th>ADECCO</th>\n",
       "      <th>LAFARGEHOLCIM</th>\n",
       "      <th>ABB</th>\n",
       "      <th>SWATCH</th>\n",
       "      <th>LONZA</th>\n",
       "      <th>SWISS LIFE</th>\n",
       "      <th>GEBERIT</th>\n",
       "      <th>NESTLE</th>\n",
       "      <th>JULIUS BAER</th>\n",
       "      <th>SWISS RE</th>\n",
       "      <th>RICHEMONT</th>\n",
       "      <th>UBS</th>\n",
       "      <th>SIKA</th>\n",
       "    </tr>\n",
       "    <tr>\n",
       "      <th>scores</th>\n",
       "      <th></th>\n",
       "      <th></th>\n",
       "      <th></th>\n",
       "      <th></th>\n",
       "      <th></th>\n",
       "      <th></th>\n",
       "      <th></th>\n",
       "      <th></th>\n",
       "      <th></th>\n",
       "      <th></th>\n",
       "      <th></th>\n",
       "      <th></th>\n",
       "      <th></th>\n",
       "      <th></th>\n",
       "      <th></th>\n",
       "      <th></th>\n",
       "      <th></th>\n",
       "      <th></th>\n",
       "      <th></th>\n",
       "      <th></th>\n",
       "    </tr>\n",
       "  </thead>\n",
       "  <tbody>\n",
       "    <tr>\n",
       "      <th>ESG Environmental</th>\n",
       "      <td>80</td>\n",
       "      <td>89</td>\n",
       "      <td>72</td>\n",
       "      <td>93</td>\n",
       "      <td>75</td>\n",
       "      <td>97</td>\n",
       "      <td>88</td>\n",
       "      <td>70</td>\n",
       "      <td>60</td>\n",
       "      <td>96</td>\n",
       "      <td>62</td>\n",
       "      <td>97</td>\n",
       "      <td>81</td>\n",
       "      <td>91</td>\n",
       "      <td>85</td>\n",
       "      <td>79</td>\n",
       "      <td>92</td>\n",
       "      <td>66</td>\n",
       "      <td>91</td>\n",
       "      <td>85</td>\n",
       "    </tr>\n",
       "    <tr>\n",
       "      <th>ESG Social</th>\n",
       "      <td>97</td>\n",
       "      <td>61</td>\n",
       "      <td>63</td>\n",
       "      <td>75</td>\n",
       "      <td>85</td>\n",
       "      <td>95</td>\n",
       "      <td>82</td>\n",
       "      <td>77</td>\n",
       "      <td>81</td>\n",
       "      <td>96</td>\n",
       "      <td>38</td>\n",
       "      <td>97</td>\n",
       "      <td>71</td>\n",
       "      <td>74</td>\n",
       "      <td>94</td>\n",
       "      <td>66</td>\n",
       "      <td>70</td>\n",
       "      <td>71</td>\n",
       "      <td>97</td>\n",
       "      <td>49</td>\n",
       "    </tr>\n",
       "    <tr>\n",
       "      <th>ESG Governance</th>\n",
       "      <td>75</td>\n",
       "      <td>74</td>\n",
       "      <td>66</td>\n",
       "      <td>81</td>\n",
       "      <td>66</td>\n",
       "      <td>68</td>\n",
       "      <td>77</td>\n",
       "      <td>77</td>\n",
       "      <td>68</td>\n",
       "      <td>79</td>\n",
       "      <td>16</td>\n",
       "      <td>58</td>\n",
       "      <td>34</td>\n",
       "      <td>53</td>\n",
       "      <td>49</td>\n",
       "      <td>77</td>\n",
       "      <td>71</td>\n",
       "      <td>38</td>\n",
       "      <td>89</td>\n",
       "      <td>45</td>\n",
       "    </tr>\n",
       "  </tbody>\n",
       "</table>\n",
       "</div>"
      ],
      "text/plain": [
       "                   SGS  SWISSCOM  GIVAUDAN  ZURICH INSURANCE  NOVARTIS  ROCHE  \\\n",
       "scores                                                                          \n",
       "ESG Environmental   80        89        72                93        75     97   \n",
       "ESG Social          97        61        63                75        85     95   \n",
       "ESG Governance      75        74        66                81        66     68   \n",
       "\n",
       "                   CREDIT SUISSE  ADECCO  LAFARGEHOLCIM  ABB  SWATCH  LONZA  \\\n",
       "scores                                                                        \n",
       "ESG Environmental             88      70             60   96      62     97   \n",
       "ESG Social                    82      77             81   96      38     97   \n",
       "ESG Governance                77      77             68   79      16     58   \n",
       "\n",
       "                   SWISS LIFE  GEBERIT  NESTLE  JULIUS BAER  SWISS RE  \\\n",
       "scores                                                                  \n",
       "ESG Environmental          81       91      85           79        92   \n",
       "ESG Social                 71       74      94           66        70   \n",
       "ESG Governance             34       53      49           77        71   \n",
       "\n",
       "                   RICHEMONT  UBS  SIKA  \n",
       "scores                                   \n",
       "ESG Environmental         66   91    85  \n",
       "ESG Social                71   97    49  \n",
       "ESG Governance            38   89    45  "
      ]
     },
     "execution_count": 15,
     "metadata": {},
     "output_type": "execute_result"
    }
   ],
   "source": [
    "# Look at first five rows\n",
    "scores.head()"
   ]
  },
  {
   "cell_type": "code",
   "execution_count": 16,
   "metadata": {
    "scrolled": true
   },
   "outputs": [
    {
     "data": {
      "text/plain": [
       "scores\n",
       "ESG Environmental    82.45\n",
       "ESG Social           76.95\n",
       "ESG Governance       63.05\n",
       "dtype: float64"
      ]
     },
     "execution_count": 16,
     "metadata": {},
     "output_type": "execute_result"
    }
   ],
   "source": [
    "# Get ESG scores for P1\n",
    "scores.dot(weights_p1)"
   ]
  },
  {
   "cell_type": "markdown",
   "metadata": {},
   "source": [
    "### Question:\n",
    "Does a distinct relationship between the expected returns and the average ESG scores exist? Do more sustainable stocks tend to have greatly inferior performance than less sustainable stocks?"
   ]
  },
  {
   "cell_type": "code",
   "execution_count": 17,
   "metadata": {},
   "outputs": [],
   "source": [
    "# Get average ESG scores\n",
    "average_esg_score = scores.mean()"
   ]
  },
  {
   "cell_type": "code",
   "execution_count": 18,
   "metadata": {},
   "outputs": [
    {
     "data": {
      "image/png": "[encoded data removed]",
      "text/plain": [
       "<Figure size 1080x360 with 1 Axes>"
      ]
     },
     "metadata": {
      "needs_background": "light"
     },
     "output_type": "display_data"
    }
   ],
   "source": [
    "# Visualize average ESG scores and expected returns in scatterplot\n",
    "plt.figure(figsize=(9, 3), dpi=120)\n",
    "plt.scatter(average_esg_score, all_expected_returns[stocks], alpha=0.6)\n",
    "plt.xlabel('ESG average score')\n",
    "plt.ylabel('Expected return');"
   ]
  },
  {
   "cell_type": "markdown",
   "metadata": {},
   "source": [
    "The data does not support the claim. It appears that no distinct relationship between the expected returns and the average ESG scores exist."
   ]
  },
  {
   "cell_type": "markdown",
   "metadata": {},
   "source": [
    "## Portfolio 2 (P2):\n",
    "As an alternative the firm xy has the idea to implement a MiniMax model as the underlying portfolio selection model (P2). Further a blacklist is introduced that consist of two pharmaceutical companies: Novartis and Roche. The weights for stocks on the blacklist must be zero in all subsequent portfolios.\n"
   ]
  },
  {
   "cell_type": "markdown",
   "metadata": {},
   "source": [
    "### Note:\n",
    "A MiniMax(MM) model trades off the minimum portfolio rerun against the expected portfolio return. Therefore the minimum portfolio return is a downside risk measure. It is possible to formulate a MM model as a linear optimization problem. \n",
    "\n",
    "Some technical characteristics of the MM model:\n",
    "* Minimum return is homogeneous\n",
    "* Minimum return is monotone\n",
    "* Minimum return is subadditive\n",
    "* Minimum return is translational invariant\n",
    "\n",
    "=> Therefore the Minimum return is coherent\n",
    "\n",
    "\n",
    "\n",
    "Notation: \n",
    "* $\\alpha$ Minimum portfolio return over all scenarios\n",
    "\n",
    "\\begin{align}\n",
    "Max. \\alpha\\\\ \n",
    "\\sum_{i=n}^n r_{il}x_i \\geq \\alpha \\quad (l \\in \\Omega)\\\\ \n",
    "\\sum_{i=n}^n \\bar r_ix_i = \\mu \\\\\n",
    "\\sum_{i=n}^n x_i =1 \\\\\n",
    "x_i \\geq 0 \\quad (i =1,...,n) \\\\\n",
    "\\alpha \\in \\Re\n",
    "\\end{align}"
   ]
  },
  {
   "cell_type": "code",
   "execution_count": 19,
   "metadata": {},
   "outputs": [],
   "source": [
    "# Get array of scenarios\n",
    "scenarios = weekly_returns.index\n",
    "# Compute expected returns\n",
    "expected_returns = all_expected_returns[stocks]\n",
    "# Define target portfolio return\n",
    "target_return = all_expected_returns['SMI']"
   ]
  },
  {
   "cell_type": "code",
   "execution_count": 20,
   "metadata": {},
   "outputs": [
    {
     "ename": "UnicodeDecodeError",
     "evalue": "'utf-8' codec can't decode byte 0xeb in position 30: invalid continuation byte",
     "output_type": "error",
     "traceback": [
      "\u001b[1;31m---------------------------------------------------------------------------\u001b[0m",
      "\u001b[1;31mUnicodeDecodeError\u001b[0m                        Traceback (most recent call last)",
      "\u001b[1;32mextern.pxi\u001b[0m in \u001b[0;36mgurobipy.__bytestostring\u001b[1;34m()\u001b[0m\n",
      "\u001b[1;31mUnicodeDecodeError\u001b[0m: 'utf-8' codec can't decode byte 0xeb in position 30: invalid continuation byte"
     ]
    },
    {
     "name": "stdout",
     "output_type": "stream",
     "text": [
      "Academic license - for non-commercial use only\n"
     ]
    },
    {
     "name": "stderr",
     "output_type": "stream",
     "text": [
      "Exception ignored in: 'gurobipy.logcallbackstub'\n",
      "Traceback (most recent call last):\n",
      "  File \"extern.pxi\", line 19, in gurobipy.__bytestostring\n",
      "UnicodeDecodeError: 'utf-8' codec can't decode byte 0xeb in position 30: invalid continuation byte\n"
     ]
    },
    {
     "data": {
      "text/plain": [
       "scores\n",
       "ESG Environmental    86.43303\n",
       "ESG Social           66.29855\n",
       "ESG Governance       65.06492\n",
       "dtype: float64"
      ]
     },
     "execution_count": 20,
     "metadata": {},
     "output_type": "execute_result"
    }
   ],
   "source": [
    "# Create model\n",
    "m = gb.Model('MM')\n",
    "\n",
    "# Add a variable for each stock\n",
    "x = pd.Series(m.addVars(stocks), index=stocks)\n",
    "\n",
    "# Add a variable which represents the minimum portfolio return\n",
    "minimum_return = m.addVar(lb=weekly_returns[stocks].min().min())\n",
    "\n",
    "# Define portfolio return\n",
    "portfolio_return = expected_returns.dot(x)\n",
    "\n",
    "# Add objective function to model\n",
    "m.setObjective(minimum_return, gb.GRB.MAXIMIZE)\n",
    "\n",
    "# Add minimum return constraints\n",
    "for l in scenarios:\n",
    "    m.addConstr(weekly_returns.loc[l, stocks].dot(x) >= minimum_return)\n",
    "    \n",
    "# Add budget constraint\n",
    "m.addConstr(x.sum() == 1);\n",
    "\n",
    "# Add target return constraint\n",
    "target_return_constr = m.addConstr(portfolio_return == target_return)\n",
    "\n",
    "# Add blacklist constraints\n",
    "m.addConstr(x.loc['ROCHE'] == 0)\n",
    "m.addConstr(x.loc['NOVARTIS'] == 0);\n",
    "\n",
    "# Specify Gurobi options\n",
    "m.setParam('OutputFlag', 0)\n",
    "\n",
    "# Run optimization\n",
    "m.optimize()\n",
    "\n",
    "# Get weights of stocks in optimal solution\n",
    "weights_p2 = pd.Series([var.X for var in x], index=stocks)\n",
    "\n",
    "# Get ESG scores for P2\n",
    "scores[stocks].dot(weights_p2)"
   ]
  },
  {
   "cell_type": "markdown",
   "metadata": {},
   "source": [
    "### Question:\n",
    "What is the minimum return of P2 and how does it stand up compared to the SMI?"
   ]
  },
  {
   "cell_type": "code",
   "execution_count": 21,
   "metadata": {},
   "outputs": [
    {
     "data": {
      "text/plain": [
       "-0.03953015537895124"
      ]
     },
     "execution_count": 21,
     "metadata": {},
     "output_type": "execute_result"
    }
   ],
   "source": [
    "# Get minimum return of P2\n",
    "minimum_return_p2 = minimum_return.X\n",
    "minimum_return_p2"
   ]
  },
  {
   "cell_type": "code",
   "execution_count": 22,
   "metadata": {},
   "outputs": [
    {
     "data": {
      "text/plain": [
       "True"
      ]
     },
     "execution_count": 22,
     "metadata": {},
     "output_type": "execute_result"
    }
   ],
   "source": [
    "# Is minimum return of P2 bigger than minimum return of SMI?\n",
    "minimum_return.X > weekly_returns['SMI'].min()"
   ]
  },
  {
   "cell_type": "markdown",
   "metadata": {},
   "source": [
    "The minimum return of P2 (-0.03953) is larger (less negative) than the minimum return of the SMI (-0.06360) and thus, the SMI is not efficient"
   ]
  },
  {
   "cell_type": "code",
   "execution_count": 23,
   "metadata": {},
   "outputs": [
    {
     "data": {
      "text/plain": [
       "SGS                 0.00000\n",
       "SWISSCOM            0.72773\n",
       "GIVAUDAN            0.00000\n",
       "ZURICH INSURANCE    0.00000\n",
       "NOVARTIS            0.00000\n",
       "ROCHE               0.00000\n",
       "CREDIT SUISSE       0.00000\n",
       "ADECCO              0.00000\n",
       "LAFARGEHOLCIM       0.00000\n",
       "ABB                 0.00000\n",
       "SWATCH              0.06426\n",
       "LONZA               0.00000\n",
       "SWISS LIFE          0.00000\n",
       "GEBERIT             0.00000\n",
       "NESTLE              0.20606\n",
       "JULIUS BAER         0.00000\n",
       "SWISS RE            0.00000\n",
       "RICHEMONT           0.00000\n",
       "UBS                 0.00000\n",
       "SIKA                0.00196\n",
       "dtype: float64"
      ]
     },
     "execution_count": 23,
     "metadata": {},
     "output_type": "execute_result"
    }
   ],
   "source": [
    "# Get weights of stocks in optimal solution\n",
    "weights_p2"
   ]
  },
  {
   "cell_type": "markdown",
   "metadata": {},
   "source": [
    "## Note:\n",
    "Adjust the target return constraint of the model such that the optimal portfolio has an expected return equal to or greater than the target return (P3). \n",
    "\n",
    "\\begin{align}\n",
    "Max. \\alpha\\\\ \n",
    "\\sum_{i=n}^n r_{il}x_i \\geq \\alpha \\quad (l \\in \\Omega)\\\\ \n",
    "\\sum_{i=n}^n \\bar r_ix_i \\geq \\mu \\\\\n",
    "\\sum_{i=n}^n x_i =1 \\\\\n",
    "x_i \\geq 0 \\quad (i =1,...,n) \\\\\n",
    "\\alpha \\in \\Re\n",
    "\\end{align}"
   ]
  },
  {
   "cell_type": "code",
   "execution_count": 24,
   "metadata": {},
   "outputs": [],
   "source": [
    "# Remove old target return constraint\n",
    "m.remove(target_return_constr)"
   ]
  },
  {
   "cell_type": "code",
   "execution_count": 25,
   "metadata": {},
   "outputs": [],
   "source": [
    "# Add new target return constraint\n",
    "target_return_constr = m.addConstr(portfolio_return >= target_return)"
   ]
  },
  {
   "cell_type": "code",
   "execution_count": 26,
   "metadata": {},
   "outputs": [],
   "source": [
    "# Run optimization\n",
    "m.optimize()"
   ]
  },
  {
   "cell_type": "code",
   "execution_count": 27,
   "metadata": {},
   "outputs": [
    {
     "data": {
      "text/plain": [
       "-0.03195969273382321"
      ]
     },
     "execution_count": 27,
     "metadata": {},
     "output_type": "execute_result"
    }
   ],
   "source": [
    "# Get minimum return of P3\n",
    "minimum_return.X"
   ]
  },
  {
   "cell_type": "markdown",
   "metadata": {},
   "source": [
    "The minimum return impoves from -3.95% in P2 to -3.2% in P3."
   ]
  },
  {
   "cell_type": "code",
   "execution_count": 28,
   "metadata": {},
   "outputs": [
    {
     "data": {
      "text/plain": [
       "SGS                 0.00000\n",
       "SWISSCOM            0.52387\n",
       "GIVAUDAN            0.00000\n",
       "ZURICH INSURANCE    0.00000\n",
       "NOVARTIS            0.00000\n",
       "ROCHE               0.00000\n",
       "CREDIT SUISSE       0.00000\n",
       "ADECCO              0.00000\n",
       "LAFARGEHOLCIM       0.00000\n",
       "ABB                 0.00000\n",
       "SWATCH              0.00000\n",
       "LONZA               0.00000\n",
       "SWISS LIFE          0.00000\n",
       "GEBERIT             0.00000\n",
       "NESTLE              0.10118\n",
       "JULIUS BAER         0.00000\n",
       "SWISS RE            0.00000\n",
       "RICHEMONT           0.00000\n",
       "UBS                 0.00000\n",
       "SIKA                0.37495\n",
       "dtype: float64"
      ]
     },
     "execution_count": 28,
     "metadata": {},
     "output_type": "execute_result"
    }
   ],
   "source": [
    "# Get weights of stocks in optimal solution\n",
    "weights_p3 = pd.Series([var.X for var in x], index=stocks)\n",
    "weights_p3"
   ]
  },
  {
   "cell_type": "markdown",
   "metadata": {},
   "source": [
    "## Portfolio 4 (P4)\n",
    "In order to develop a variant of the minimax model that additionally takes into account the investors' target values for the three ESG score a separate penalty for each of the three ESG scores is implemented. If the portfolio score is equal to or greater than the target value, then the penalty is zero. If the portfolio score is smaller than the target value, then the penalty corresponds to the difference between the target value and the portfolio score.\n",
    "$penalty_{ESG} = max(taregt ESG score - portfolio ESG score,0)$ \n",
    "\n",
    "However, firm xy decides that a linear increasing penalty is not appropriate. It should be ensured that large shortfalls are penalized heavily. The structure of the three penalty functions can be seen in the following graphs:\n",
    "\n",
    "![title](picture.PNG)\n",
    "\n",
    "\n",
    "Additionally the already introduced constraints have to hold:\n",
    "* The portfolio return does not fall below a prespecified minimum portfolio return $\\alpha$ in any scenario.\n",
    "* The expected portfolio return is equal to or greater than a prespecified target return µ.\n",
    "* The sum of the weights is equal to 1.\n",
    "* All portfolio weights are non-negative.\n",
    "* The weights for stocks on the blacklist must be zero.\n",
    "\n",
    "Formulate a linear optimization problem in which the sum of the three penalties (given the structures in the graphs) is minimized subject to all constraints."
   ]
  },
  {
   "cell_type": "markdown",
   "metadata": {},
   "source": [
    "### Note:\n",
    "The resulting optimization problem:\n",
    "\n",
    "Notation:\n",
    "* $S_i^E$: ESG Envionmental score of stock i\n",
    "* $S_i^S$: ESG Social score of stock i\n",
    "* $S_i^G$: ESG Governance score of stock i\n",
    "* $S_t^E$: Target ESG Environmental value\n",
    "* $S_t^S$: Target ESG Socail value\n",
    "* $S_t^G$: Target ESG Governance value\n",
    "* $x_i$: weight of asset i\n",
    "* $\\delta_{Ej}$:  Shortfall of portfolio ESG Environmental score with respect to target ESG Environmental value in jth segment of penalty function (j = 1; 2)\n",
    "* $\\delta_{Sj}$: Shortfall of portfolio ESG Social score with respect to target ESG Social value in jth segment of penalty function (j = 1; 2)\n",
    "* $\\delta_{Gj}$: Shortfall of portfolio ESG Governance score with respect to target ESG Governance value in jth segment of penalty function (j = 1; 2) \n",
    "\n",
    "\n",
    "\\begin{align}\n",
    "Min. (8/10)\\delta_{E1} + (12/10)\\delta_{E2} + (10/10)\\delta_{S1} + (20/10)\\delta_{S2} + (4/10) \\delta_{G1} + (8/10)\\delta_{G2}\\\\\n",
    "\\sum_{i=n}^n r_{il}x_i \\geq \\alpha \\quad (l \\in \\Omega)\\\\ \n",
    "\\sum_{i=n}^n \\bar r_ix_i \\geq \\mu \\\\\n",
    "\\sum_{i=n}^n x_i =1 \\\\\n",
    "\\sum_{i=n}^n S_i^E x_i  \\geq S_t^E - \\delta_{E1} - \\delta_{E2}\\\\\n",
    "\\sum_{i=n}^n S_i^S x_i  \\geq S_t^S - \\delta_{S1} - \\delta_{S2}\\\\\n",
    "\\sum_{i=n}^n S_i^G x_i  \\geq S_t^G - \\delta_{G1} - \\delta_{G2}\\\\\n",
    "\\delta_{E1} \\leq 10 \\\\\n",
    "\\delta_{S1} \\leq 10 \\\\\n",
    "\\delta_{G1} \\leq 10 \\\\\n",
    "x_i \\geq 0 \\quad (i =1,...,n) \\\\\n",
    "x_i = 0 \\quad (i = Novartis, Roche)\\\\\n",
    "\\delta_{E1},\\delta_{E2},\\delta_{S1},\\delta_{S2},\\delta_{G1},\\delta_{G2} \\geq 0\\\\\n",
    "\\end{align}\n"
   ]
  },
  {
   "cell_type": "code",
   "execution_count": 29,
   "metadata": {},
   "outputs": [],
   "source": [
    "# Define target ESG values\n",
    "S_t_E = 100\n",
    "S_t_S = 100\n",
    "S_t_G = 100"
   ]
  },
  {
   "cell_type": "code",
   "execution_count": 30,
   "metadata": {},
   "outputs": [
    {
     "data": {
      "text/plain": [
       "0.004028207115997125"
      ]
     },
     "execution_count": 30,
     "metadata": {},
     "output_type": "execute_result"
    }
   ],
   "source": [
    "# Create model\n",
    "m = gb.Model('MM2')\n",
    "\n",
    "# Add a variable for each stock\n",
    "x = pd.Series(m.addVars(stocks), index=stocks)\n",
    "\n",
    "# Add variables for ESG environmental penalties\n",
    "delta_e1 = m.addVar()\n",
    "delta_e2 = m.addVar()\n",
    "\n",
    "# Add variables for ESG social penalties\n",
    "delta_s1 = m.addVar()\n",
    "delta_s2 = m.addVar()\n",
    "\n",
    "# Add variables for ESG governance penalties\n",
    "delta_g1 = m.addVar()\n",
    "delta_g2 = m.addVar()\n",
    "\n",
    "# Define minimum return\n",
    "minimum_return = minimum_return_p2\n",
    "\n",
    "# Define portfolio return\n",
    "portfolio_return = expected_returns.dot(x)\n",
    "\n",
    "# Define portfolio environmental score\n",
    "portfolio_environmental_score = scores.loc['ESG Environmental', stocks].dot(x)\n",
    "\n",
    "# Define portfolio social score\n",
    "portfolio_social_score = scores.loc['ESG Social', stocks].dot(x)\n",
    "\n",
    "# Define portfolio governance score\n",
    "portfolio_governance_score = scores.loc['ESG Governance', stocks].dot(x)\n",
    "\n",
    "# Add objective function to model\n",
    "m.setObjective((8 / 10) * delta_e1 + (12 / 10) * delta_e2\n",
    "               + (10 / 10) * delta_s1 + (20 / 10) * delta_s2\n",
    "               + (4 / 10) * delta_g1 + (8 / 10) * delta_g2, gb.GRB.MINIMIZE)\n",
    "\n",
    "# Add constraints for ESG penalties to model\n",
    "ESG_environmental_penalty_constraint = m.addConstr(\n",
    "    portfolio_environmental_score >= S_t_E - delta_e1 - delta_e2)\n",
    "ESG_social_penalty_constraint = m.addConstr(\n",
    "    portfolio_social_score >= S_t_S - delta_s1 - delta_s2)\n",
    "ESG_governance_penalty_constraint = m.addConstr(\n",
    "    portfolio_governance_score >= S_t_G - delta_g1 - delta_g2)\n",
    "m.addConstr(delta_e1 <= 10)\n",
    "m.addConstr(delta_s1 <= 10)\n",
    "m.addConstr(delta_g1 <= 10);\n",
    "\n",
    "# Add minimum return constraints\n",
    "for l in scenarios:\n",
    "    m.addConstr(weekly_returns.loc[l, stocks].dot(x) >= minimum_return)\n",
    "\n",
    "    \n",
    "# Add budget constraint\n",
    "m.addConstr(x.sum() == 1);    \n",
    "\n",
    "# Add blacklist constraints\n",
    "m.addConstr(x.loc['ROCHE'] == 0)\n",
    "m.addConstr(x.loc['NOVARTIS'] == 0);\n",
    "\n",
    "# Add target return constraint\n",
    "m.addConstr(portfolio_return >= target_return);\n",
    "\n",
    "# Specify Gurobi options\n",
    "m.setParam('OutputFlag', 0)\n",
    "\n",
    "# Run optimization\n",
    "m.optimize()\n",
    "\n",
    "# Get portfolio return\n",
    "portfolio_return.getValue()"
   ]
  },
  {
   "cell_type": "code",
   "execution_count": 31,
   "metadata": {},
   "outputs": [
    {
     "data": {
      "text/plain": [
       "SGS                 0.00000\n",
       "SWISSCOM            0.29316\n",
       "GIVAUDAN            0.00000\n",
       "ZURICH INSURANCE    0.00000\n",
       "NOVARTIS            0.00000\n",
       "ROCHE               0.00000\n",
       "CREDIT SUISSE       0.00000\n",
       "ADECCO              0.00000\n",
       "LAFARGEHOLCIM       0.00000\n",
       "ABB                 0.00000\n",
       "SWATCH              0.00000\n",
       "LONZA               0.31895\n",
       "SWISS LIFE          0.00000\n",
       "GEBERIT             0.00000\n",
       "NESTLE              0.14513\n",
       "JULIUS BAER         0.00000\n",
       "SWISS RE            0.00000\n",
       "RICHEMONT           0.00000\n",
       "UBS                 0.00000\n",
       "SIKA                0.24276\n",
       "dtype: float64"
      ]
     },
     "execution_count": 31,
     "metadata": {},
     "output_type": "execute_result"
    }
   ],
   "source": [
    "# Get weights of stocks in optimal solution\n",
    "weights_p4 = pd.Series([var.X for var in x], index=stocks)\n",
    "weights_p4"
   ]
  },
  {
   "cell_type": "markdown",
   "metadata": {},
   "source": [
    "# Optimized until here !!!"
   ]
  },
  {
   "cell_type": "code",
   "execution_count": 32,
   "metadata": {},
   "outputs": [
    {
     "data": {
      "text/plain": [
       "scores\n",
       "ESG Environmental    87.09548\n",
       "ESG Social           59.83969\n",
       "ESG Governance       60.59696\n",
       "dtype: float64"
      ]
     },
     "execution_count": 32,
     "metadata": {},
     "output_type": "execute_result"
    }
   ],
   "source": [
    "# Get ESG ratings P3\n",
    "scores[stocks].dot(weights_p3)"
   ]
  },
  {
   "cell_type": "code",
   "execution_count": 33,
   "metadata": {},
   "outputs": [
    {
     "data": {
      "text/plain": [
       "90.0"
      ]
     },
     "execution_count": 33,
     "metadata": {},
     "output_type": "execute_result"
    }
   ],
   "source": [
    "# Get ESG Environmental score for P4\n",
    "portfolio_environmental_score.getValue()"
   ]
  },
  {
   "cell_type": "code",
   "execution_count": 34,
   "metadata": {},
   "outputs": [
    {
     "data": {
      "text/plain": [
       "74.3583947757379"
      ]
     },
     "execution_count": 34,
     "metadata": {},
     "output_type": "execute_result"
    }
   ],
   "source": [
    "# Get ESG Social score for P4\n",
    "portfolio_social_score.getValue()"
   ]
  },
  {
   "cell_type": "code",
   "execution_count": 35,
   "metadata": {},
   "outputs": [
    {
     "data": {
      "text/plain": [
       "58.22836587606057"
      ]
     },
     "execution_count": 35,
     "metadata": {},
     "output_type": "execute_result"
    }
   ],
   "source": [
    "# Get ESG Governance score for P4\n",
    "portfolio_governance_score.getValue()"
   ]
  },
  {
   "cell_type": "markdown",
   "metadata": {},
   "source": [
    "### c)"
   ]
  },
  {
   "cell_type": "code",
   "execution_count": 36,
   "metadata": {},
   "outputs": [],
   "source": [
    "# Adjust right-hand side of ESG penalty constraints\n",
    "ESG_environmental_penalty_constraint.rhs = 70\n",
    "ESG_social_penalty_constraint.rhs = 70\n",
    "ESG_governance_penalty_constraint.rhs = 70"
   ]
  },
  {
   "cell_type": "code",
   "execution_count": 37,
   "metadata": {},
   "outputs": [],
   "source": [
    "# Specify Gurobi options\n",
    "m.setParam('OutputFlag', 0)"
   ]
  },
  {
   "cell_type": "code",
   "execution_count": 38,
   "metadata": {},
   "outputs": [],
   "source": [
    "# Run optimization\n",
    "m.optimize()"
   ]
  },
  {
   "cell_type": "code",
   "execution_count": 39,
   "metadata": {},
   "outputs": [
    {
     "data": {
      "text/plain": [
       "0.000970403490640437"
      ]
     },
     "execution_count": 39,
     "metadata": {},
     "output_type": "execute_result"
    }
   ],
   "source": [
    "# Get portfolio return\n",
    "portfolio_return.getValue()"
   ]
  },
  {
   "cell_type": "code",
   "execution_count": 40,
   "metadata": {},
   "outputs": [
    {
     "data": {
      "text/plain": [
       "0.0"
      ]
     },
     "execution_count": 40,
     "metadata": {},
     "output_type": "execute_result"
    }
   ],
   "source": [
    "# Get objective function value\n",
    "m.ObjVal"
   ]
  },
  {
   "cell_type": "code",
   "execution_count": 41,
   "metadata": {},
   "outputs": [
    {
     "data": {
      "text/plain": [
       "87.32684050133567"
      ]
     },
     "execution_count": 41,
     "metadata": {},
     "output_type": "execute_result"
    }
   ],
   "source": [
    "# Get ESG Environmental score\n",
    "portfolio_environmental_score.getValue()"
   ]
  },
  {
   "cell_type": "code",
   "execution_count": 42,
   "metadata": {},
   "outputs": [
    {
     "data": {
      "text/plain": [
       "70.0"
      ]
     },
     "execution_count": 42,
     "metadata": {},
     "output_type": "execute_result"
    }
   ],
   "source": [
    "# Get ESG Social score\n",
    "portfolio_social_score.getValue()"
   ]
  },
  {
   "cell_type": "code",
   "execution_count": 43,
   "metadata": {},
   "outputs": [
    {
     "data": {
      "text/plain": [
       "70.0"
      ]
     },
     "execution_count": 43,
     "metadata": {},
     "output_type": "execute_result"
    }
   ],
   "source": [
    "# Get ESG Governance score\n",
    "portfolio_governance_score.getValue()"
   ]
  },
  {
   "cell_type": "markdown",
   "metadata": {},
   "source": [
    "### d)"
   ]
  },
  {
   "cell_type": "code",
   "execution_count": 44,
   "metadata": {},
   "outputs": [],
   "source": [
    "# Adjust right-hand side of ESG penalty constraints\n",
    "ESG_environmental_penalty_constraint.rhs = 100\n",
    "ESG_social_penalty_constraint.rhs = 0\n",
    "ESG_governance_penalty_constraint.rhs = 0"
   ]
  },
  {
   "cell_type": "code",
   "execution_count": 45,
   "metadata": {},
   "outputs": [],
   "source": [
    "# Specify Gurobi options\n",
    "m.setParam('OutputFlag', 0)"
   ]
  },
  {
   "cell_type": "code",
   "execution_count": 46,
   "metadata": {},
   "outputs": [],
   "source": [
    "# Run optimization\n",
    "m.optimize()"
   ]
  },
  {
   "cell_type": "code",
   "execution_count": 47,
   "metadata": {},
   "outputs": [
    {
     "data": {
      "text/plain": [
       "0.004731096551229242"
      ]
     },
     "execution_count": 47,
     "metadata": {},
     "output_type": "execute_result"
    }
   ],
   "source": [
    "# Get portfolio return\n",
    "portfolio_return.getValue()"
   ]
  },
  {
   "cell_type": "code",
   "execution_count": 48,
   "metadata": {},
   "outputs": [
    {
     "data": {
      "text/plain": [
       "7.184474224185419"
      ]
     },
     "execution_count": 48,
     "metadata": {},
     "output_type": "execute_result"
    }
   ],
   "source": [
    "# Get objective function value\n",
    "m.ObjVal"
   ]
  },
  {
   "cell_type": "code",
   "execution_count": 49,
   "metadata": {},
   "outputs": [
    {
     "data": {
      "text/plain": [
       "91.01940721976823"
      ]
     },
     "execution_count": 49,
     "metadata": {},
     "output_type": "execute_result"
    }
   ],
   "source": [
    "# Get ESG Environmental score\n",
    "portfolio_environmental_score.getValue()"
   ]
  },
  {
   "cell_type": "code",
   "execution_count": 50,
   "metadata": {},
   "outputs": [
    {
     "data": {
      "text/plain": [
       "72.15576458661855"
      ]
     },
     "execution_count": 50,
     "metadata": {},
     "output_type": "execute_result"
    }
   ],
   "source": [
    "# Get ESG Social score\n",
    "portfolio_social_score.getValue()"
   ]
  },
  {
   "cell_type": "code",
   "execution_count": 51,
   "metadata": {},
   "outputs": [
    {
     "data": {
      "text/plain": [
       "57.822404886653864"
      ]
     },
     "execution_count": 51,
     "metadata": {},
     "output_type": "execute_result"
    }
   ],
   "source": [
    "# Get ESG Governance score\n",
    "portfolio_governance_score.getValue()"
   ]
  },
  {
   "cell_type": "markdown",
   "metadata": {},
   "source": [
    "## Task 5"
   ]
  },
  {
   "cell_type": "markdown",
   "metadata": {},
   "source": [
    "### a)"
   ]
  },
  {
   "cell_type": "code",
   "execution_count": 52,
   "metadata": {},
   "outputs": [],
   "source": [
    "# Import prices\n",
    "weekly_prices_evaluation = pd.read_csv('prices18.csv', index_col='date')"
   ]
  },
  {
   "cell_type": "code",
   "execution_count": 53,
   "metadata": {},
   "outputs": [],
   "source": [
    "# Get budget\n",
    "budget = 1000000"
   ]
  },
  {
   "cell_type": "code",
   "execution_count": 54,
   "metadata": {},
   "outputs": [],
   "source": [
    "# Get budget per stock\n",
    "budget_per_stock_p1 = budget * weights_p1\n",
    "budget_per_stock_p2 = budget * weights_p2\n",
    "budget_per_stock_p3 = budget * weights_p3\n",
    "budget_per_stock_p4 = budget * weights_p4"
   ]
  },
  {
   "cell_type": "code",
   "execution_count": 55,
   "metadata": {},
   "outputs": [],
   "source": [
    "# Get unit per stock\n",
    "unit_per_stock_p1 = (budget_per_stock_p1\n",
    "                     / weekly_prices_evaluation.loc['2018-01-05', stocks])\n",
    "unit_per_stock_p2 = (budget_per_stock_p2\n",
    "                     / weekly_prices_evaluation.loc['2018-01-05', stocks])\n",
    "unit_per_stock_p3 = (budget_per_stock_p3\n",
    "                     / weekly_prices_evaluation.loc['2018-01-05', stocks])\n",
    "unit_per_stock_p4 = (budget_per_stock_p4\n",
    "                     / weekly_prices_evaluation.loc['2018-01-05', stocks])\n",
    "unit_smi = (budget\n",
    "            / weekly_prices_evaluation.loc['2018-01-05', 'SMI'])"
   ]
  },
  {
   "cell_type": "code",
   "execution_count": 56,
   "metadata": {},
   "outputs": [],
   "source": [
    "# Get list of selected stocks\n",
    "selected_stocks = ['SWISSCOM', 'SIKA']"
   ]
  },
  {
   "cell_type": "code",
   "execution_count": 57,
   "metadata": {},
   "outputs": [
    {
     "data": {
      "text/plain": [
       "SWISSCOM     95.27439\n",
       "SIKA        371.73892\n",
       "dtype: float64"
      ]
     },
     "execution_count": 57,
     "metadata": {},
     "output_type": "execute_result"
    }
   ],
   "source": [
    "# Get units for P1\n",
    "unit_per_stock_p1.loc[selected_stocks]"
   ]
  },
  {
   "cell_type": "code",
   "execution_count": 58,
   "metadata": {},
   "outputs": [
    {
     "data": {
      "text/plain": [
       "SWISSCOM    1386.67669\n",
       "SIKA          14.55497\n",
       "dtype: float64"
      ]
     },
     "execution_count": 58,
     "metadata": {},
     "output_type": "execute_result"
    }
   ],
   "source": [
    "# Get units for P2\n",
    "unit_per_stock_p2.loc[selected_stocks]"
   ]
  },
  {
   "cell_type": "code",
   "execution_count": 59,
   "metadata": {},
   "outputs": [
    {
     "data": {
      "text/plain": [
       "SWISSCOM     998.22756\n",
       "SIKA        2787.64584\n",
       "dtype: float64"
      ]
     },
     "execution_count": 59,
     "metadata": {},
     "output_type": "execute_result"
    }
   ],
   "source": [
    "# Get units for P3\n",
    "unit_per_stock_p3.loc[selected_stocks]"
   ]
  },
  {
   "cell_type": "code",
   "execution_count": 60,
   "metadata": {},
   "outputs": [
    {
     "data": {
      "text/plain": [
       "SWISSCOM     558.60388\n",
       "SIKA        1804.88737\n",
       "dtype: float64"
      ]
     },
     "execution_count": 60,
     "metadata": {},
     "output_type": "execute_result"
    }
   ],
   "source": [
    "# Get units for P4\n",
    "unit_per_stock_p4.loc[selected_stocks]"
   ]
  },
  {
   "cell_type": "markdown",
   "metadata": {},
   "source": [
    "### b)"
   ]
  },
  {
   "cell_type": "code",
   "execution_count": 61,
   "metadata": {},
   "outputs": [],
   "source": [
    "# Convert index from string to date\n",
    "weekly_prices_evaluation.index = pd.to_datetime(weekly_prices_evaluation.index)"
   ]
  },
  {
   "cell_type": "code",
   "execution_count": 62,
   "metadata": {},
   "outputs": [],
   "source": [
    "# Compute value development of portfolios\n",
    "value_p1_evaluation = weekly_prices_evaluation[stocks].dot(unit_per_stock_p1)\n",
    "value_p2_evaluation = weekly_prices_evaluation[stocks].dot(unit_per_stock_p2)\n",
    "value_p3_evaluation = weekly_prices_evaluation[stocks].dot(unit_per_stock_p3)\n",
    "value_p4_evaluation = weekly_prices_evaluation[stocks].dot(unit_per_stock_p4)\n",
    "value_smi_evaluation = weekly_prices_evaluation['SMI'] * unit_smi"
   ]
  },
  {
   "cell_type": "code",
   "execution_count": 63,
   "metadata": {
    "scrolled": true
   },
   "outputs": [
    {
     "data": {
      "image/png": "[encoded data removed]",
      "text/plain": [
       "<Figure size 1800x600 with 1 Axes>"
      ]
     },
     "metadata": {
      "needs_background": "light"
     },
     "output_type": "display_data"
    }
   ],
   "source": [
    "%matplotlib inline\n",
    "# Line plot of value development of portfolios\n",
    "plt.figure(figsize=(15, 5), dpi=120)\n",
    "plt.plot(value_p1_evaluation, label='P1')\n",
    "plt.plot(value_p2_evaluation, label='P2')\n",
    "plt.plot(value_p3_evaluation, label='P3')\n",
    "plt.plot(value_p4_evaluation, label='P4')\n",
    "plt.plot(value_smi_evaluation, label='SMI')\n",
    "plt.axhline(1000000, color='b', linestyle='--')\n",
    "plt.xlabel('Date')\n",
    "plt.ylabel('Value CHF')\n",
    "plt.legend();"
   ]
  },
  {
   "cell_type": "code",
   "execution_count": 64,
   "metadata": {},
   "outputs": [
    {
     "name": "stdout",
     "output_type": "stream",
     "text": [
      "Value P1: 832696.03\n",
      "Value P2: 895256.94\n",
      "Value P3: 912630.88\n",
      "Value P4: 925445.21\n",
      "Value SMI: 882004.57\n"
     ]
    }
   ],
   "source": [
    "# Get values on 28th December, 2018\n",
    "print('Value P1:', value_p1_evaluation.loc['2018-12-28'].round(2))\n",
    "print('Value P2:', value_p2_evaluation.loc['2018-12-28'].round(2))\n",
    "print('Value P3:', value_p3_evaluation.loc['2018-12-28'].round(2))\n",
    "print('Value P4:', value_p4_evaluation.loc['2018-12-28'].round(2))\n",
    "print('Value SMI:', value_smi_evaluation.loc['2018-12-28'].round(2))"
   ]
  },
  {
   "cell_type": "markdown",
   "metadata": {},
   "source": [
    "### c)"
   ]
  },
  {
   "cell_type": "code",
   "execution_count": 65,
   "metadata": {},
   "outputs": [],
   "source": [
    "# Get unit per stock (assumption: investment of 1,000,000 CHF at beginning of year 2016)\n",
    "unit_per_stock_p1 = (budget_per_stock_p1\n",
    "                     / weekly_prices.loc['2016-01-01', stocks])\n",
    "unit_per_stock_p2 = (budget_per_stock_p2\n",
    "                     / weekly_prices.loc['2016-01-01', stocks])\n",
    "unit_per_stock_p3 = (budget_per_stock_p3\n",
    "                     / weekly_prices.loc['2016-01-01', stocks])\n",
    "unit_per_stock_p4 = (budget_per_stock_p4\n",
    "                     / weekly_prices.loc['2016-01-01', stocks])\n",
    "unit_smi = (budget\n",
    "            / weekly_prices.loc['2016-01-01', 'SMI'])"
   ]
  },
  {
   "cell_type": "code",
   "execution_count": 66,
   "metadata": {},
   "outputs": [],
   "source": [
    "# Compute value development of portfolios\n",
    "value_p1 = weekly_prices[stocks].dot(unit_per_stock_p1)\n",
    "value_p2 = weekly_prices[stocks].dot(unit_per_stock_p2)\n",
    "value_p3 = weekly_prices[stocks].dot(unit_per_stock_p3)\n",
    "value_p4 = weekly_prices[stocks].dot(unit_per_stock_p4)\n",
    "value_smi = weekly_prices['SMI'] * unit_smi"
   ]
  },
  {
   "cell_type": "code",
   "execution_count": 67,
   "metadata": {},
   "outputs": [],
   "source": [
    "# Compute weekly returns for P1-P4\n",
    "return_p1 = value_p1 / value_p1.shift(1) - 1\n",
    "return_p2 = value_p2 / value_p2.shift(1) - 1\n",
    "return_p3 = value_p3 / value_p3.shift(1) - 1\n",
    "return_p4 = value_p4 / value_p4.shift(1) - 1\n",
    "return_smi = value_smi / value_smi.shift(1) - 1"
   ]
  },
  {
   "cell_type": "code",
   "execution_count": 68,
   "metadata": {},
   "outputs": [],
   "source": [
    "# Drop NA-return in first period\n",
    "return_p1 = return_p1.dropna()\n",
    "return_p2 = return_p2.dropna()\n",
    "return_p3 = return_p3.dropna()\n",
    "return_p4 = return_p4.dropna()\n",
    "return_smi = return_smi.dropna()"
   ]
  },
  {
   "cell_type": "code",
   "execution_count": 69,
   "metadata": {},
   "outputs": [
    {
     "name": "stdout",
     "output_type": "stream",
     "text": [
      "In-sample\n",
      "Average return P1: 0.0019377459805753254\n",
      "Average return P2: 0.000705162492983614\n",
      "Average return P3: 0.0037536328656517706\n",
      "Average return P4: 0.004306274155725259\n",
      "Average return SMI: 0.0007559592715326025\n"
     ]
    }
   ],
   "source": [
    "# Get average portfolio return (in-sample)\n",
    "print('In-sample')\n",
    "print('Average return P1:', return_p1.mean())\n",
    "print('Average return P2:', return_p2.mean())\n",
    "print('Average return P3:', return_p3.mean())\n",
    "print('Average return P4:', return_p4.mean())\n",
    "print('Average return SMI:', return_smi.mean())"
   ]
  },
  {
   "cell_type": "code",
   "execution_count": 70,
   "metadata": {},
   "outputs": [
    {
     "name": "stdout",
     "output_type": "stream",
     "text": [
      "In-sample\n",
      "Minimum return P1: -0.0683472154943835\n",
      "Minimum return P2: -0.039585853183499164\n",
      "Minimum return P3: -0.03968848468003894\n",
      "Minimum return P4: -0.039530155378951104\n",
      "Minimum return SMI: -0.06359767251184767\n"
     ]
    }
   ],
   "source": [
    "# Get minimum portfolio return (in-sample)\n",
    "print('In-sample')\n",
    "print('Minimum return P1:', return_p1.min())\n",
    "print('Minimum return P2:', return_p2.min())\n",
    "print('Minimum return P3:', return_p3.min())\n",
    "print('Minimum return P4:', return_p4.min())\n",
    "print('Minimum return SMI:', return_smi.min())"
   ]
  },
  {
   "cell_type": "markdown",
   "metadata": {},
   "source": [
    "### d)"
   ]
  },
  {
   "cell_type": "code",
   "execution_count": 71,
   "metadata": {},
   "outputs": [],
   "source": [
    "# Compute weekly returns for P1-P4\n",
    "return_p1_evaluation = value_p1_evaluation / value_p1_evaluation.shift(1) - 1\n",
    "return_p2_evaluation = value_p2_evaluation / value_p2_evaluation.shift(1) - 1\n",
    "return_p3_evaluation = value_p3_evaluation / value_p3_evaluation.shift(1) - 1\n",
    "return_p4_evaluation = value_p4_evaluation / value_p4_evaluation.shift(1) - 1\n",
    "return_smi_evaluation = value_smi_evaluation / value_smi_evaluation.shift(1) - 1"
   ]
  },
  {
   "cell_type": "code",
   "execution_count": 72,
   "metadata": {},
   "outputs": [],
   "source": [
    "# Drop NA-return in first period\n",
    "return_p1_evaluation = return_p1_evaluation.dropna()\n",
    "return_p2_evaluation = return_p2_evaluation.dropna()\n",
    "return_p3_evaluation = return_p3_evaluation.dropna()\n",
    "return_p4_evaluation = return_p4_evaluation.dropna()\n",
    "return_smi_evaluation = return_smi_evaluation.dropna()"
   ]
  },
  {
   "cell_type": "code",
   "execution_count": 73,
   "metadata": {},
   "outputs": [
    {
     "name": "stdout",
     "output_type": "stream",
     "text": [
      "Out-of-sample\n",
      "Average return P1: -0.0033525014939166094\n",
      "Average return P2: -0.0019677108825276166\n",
      "Average return P3: -0.001528400014162195\n",
      "Average return P4: -0.0011511241950784045\n",
      "Average return SMI: -0.0022559037116565627\n"
     ]
    }
   ],
   "source": [
    "# Get average portfolio return (out-of-sample)\n",
    "print('Out-of-sample')\n",
    "print('Average return P1:', return_p1_evaluation.mean())\n",
    "print('Average return P2:', return_p2_evaluation.mean())\n",
    "print('Average return P3:', return_p3_evaluation.mean())\n",
    "print('Average return P4:', return_p4_evaluation.mean())\n",
    "print('Average return SMI:', return_smi_evaluation.mean())"
   ]
  },
  {
   "cell_type": "code",
   "execution_count": 74,
   "metadata": {},
   "outputs": [
    {
     "name": "stdout",
     "output_type": "stream",
     "text": [
      "Out-of-sample\n",
      "Minimum return P1: -0.06117459158716576\n",
      "Minimum return P2: -0.0634980532456666\n",
      "Minimum return P3: -0.056372769211856744\n",
      "Minimum return P4: -0.06604151320746465\n",
      "Minimum return SMI: -0.058421875152510294\n"
     ]
    }
   ],
   "source": [
    "# Get minimum portfolio return (out-of-sample)\n",
    "print('Out-of-sample')\n",
    "print('Minimum return P1:', return_p1_evaluation.min())\n",
    "print('Minimum return P2:', return_p2_evaluation.min())\n",
    "print('Minimum return P3:', return_p3_evaluation.min())\n",
    "print('Minimum return P4:', return_p4_evaluation.min())\n",
    "print('Minimum return SMI:', return_smi_evaluation.min())"
   ]
  },
  {
   "cell_type": "code",
   "execution_count": null,
   "metadata": {},
   "outputs": [],
   "source": []
  }
 ],
 "metadata": {
  "kernelspec": {
   "display_name": "Python 3",
   "language": "python",
   "name": "python3"
  },
  "language_info": {
   "codemirror_mode": {
    "name": "ipython",
    "version": 3
   },
   "file_extension": ".py",
   "mimetype": "text/x-python",
   "name": "python",
   "nbconvert_exporter": "python",
   "pygments_lexer": "ipython3",
   "version": "3.7.6"
  }
 },
 "nbformat": 4,
 "nbformat_minor": 2
}
