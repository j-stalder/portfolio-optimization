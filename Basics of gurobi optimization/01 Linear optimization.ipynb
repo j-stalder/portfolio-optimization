{
 "cells": [
  {
   "cell_type": "markdown",
   "metadata": {},
   "source": [
    "# Linear optimization"
   ]
  },
  {
   "cell_type": "code",
   "execution_count": 1,
   "metadata": {},
   "outputs": [],
   "source": [
    "# Import Gurobi package\n",
    "import gurobipy as gb"
   ]
  },
  {
   "cell_type": "markdown",
   "metadata": {},
   "source": [
    "## Exercise"
   ]
  },
  {
   "cell_type": "markdown",
   "metadata": {},
   "source": [
    "\\begin{align}\n",
    "Min. 98x_1 + 100x_2\\\\\n",
    "6x_1 + 3x_2 \\geq 500\\\\\n",
    "7x_2 \\geq 500\\\\\n",
    "2x_1 +4x_2 \\geq 500\\\\\n",
    "x_1,x_2 \\geq 0\n",
    "\\end{align}"
   ]
  },
  {
   "cell_type": "code",
   "execution_count": 4,
   "metadata": {},
   "outputs": [
    {
     "name": "stdout",
     "output_type": "stream",
     "text": [
      "Gurobi Optimizer version 9.0.1 build v9.0.1rc0 (win64)\n",
      "Optimize a model with 3 rows, 2 columns and 5 nonzeros\n",
      "Model fingerprint: 0x276de63b\n",
      "Coefficient statistics:\n",
      "  Matrix range     [2e+00, 7e+00]\n",
      "  Objective range  [1e+02, 1e+02]\n",
      "  Bounds range     [0e+00, 0e+00]\n",
      "  RHS range        [5e+02, 5e+02]\n",
      "Presolve removed 1 rows and 0 columns\n",
      "Presolve time: 0.00s\n",
      "Presolved: 2 rows, 2 columns, 4 nonzeros\n",
      "\n",
      "Iteration    Objective       Primal Inf.    Dual Inf.      Time\n",
      "       0    1.1809524e+04   7.440476e+00   0.000000e+00      0s\n",
      "       1    1.3833333e+04   0.000000e+00   0.000000e+00      0s\n",
      "\n",
      "Solved in 1 iterations and 0.00 seconds\n",
      "Optimal objective  1.383333333e+04\n"
     ]
    }
   ],
   "source": [
    "# Create model\n",
    "m = gb.Model()\n",
    "\n",
    "# Add variables\n",
    "x1 = m.addVar()\n",
    "x2 = m.addVar()\n",
    "\n",
    "# Define objective function\n",
    "m.setObjective(98 * x1 + 100 * x2, sense=gb.GRB.MINIMIZE)\n",
    "\n",
    "# Add constraints\n",
    "m.addConstr(6 * x1 + 3 * x2 >= 500)\n",
    "m.addConstr(7 * x2 >= 500)\n",
    "m.addConstr(2 * x1 + 4 * x2 >= 500)\n",
    "\n",
    "# Run optimization\n",
    "m.optimize()"
   ]
  },
  {
   "cell_type": "code",
   "execution_count": 5,
   "metadata": {},
   "outputs": [
    {
     "name": "stdout",
     "output_type": "stream",
     "text": [
      "x1 = 27.77777777777778\n",
      "x2 = 111.11111111111111\n",
      "Objective function value = 13833.333333333334\n"
     ]
    }
   ],
   "source": [
    "# Get values of decision variables\n",
    "print('x1 =', x1.X)\n",
    "print('x2 =', x2.X)\n",
    "print('Objective function value =', m.ObjVal)"
   ]
  },
  {
   "cell_type": "code",
   "execution_count": null,
   "metadata": {},
   "outputs": [],
   "source": []
  }
 ],
 "metadata": {
  "kernelspec": {
   "display_name": "Python 3",
   "language": "python",
   "name": "python3"
  },
  "language_info": {
   "codemirror_mode": {
    "name": "ipython",
    "version": 3
   },
   "file_extension": ".py",
   "mimetype": "text/x-python",
   "name": "python",
   "nbconvert_exporter": "python",
   "pygments_lexer": "ipython3",
   "version": "3.7.6"
  }
 },
 "nbformat": 4,
 "nbformat_minor": 2
}
