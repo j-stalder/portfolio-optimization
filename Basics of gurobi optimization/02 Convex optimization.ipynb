{
 "cells": [
  {
   "cell_type": "markdown",
   "metadata": {},
   "source": [
    "# Convex optimization"
   ]
  },
  {
   "cell_type": "code",
   "execution_count": 1,
   "metadata": {},
   "outputs": [],
   "source": [
    "# Import Gurobi package\n",
    "import gurobipy as gb"
   ]
  },
  {
   "cell_type": "markdown",
   "metadata": {},
   "source": [
    "## Exercise "
   ]
  },
  {
   "cell_type": "markdown",
   "metadata": {},
   "source": [
    "\\begin{align}\n",
    "Min. 95x_1 + 105x_2 + (95x_1 - 105x_2)^2\\\\\n",
    "6x_1 + 2x_2 \\geq 500 \\\\\n",
    "7x_2 \\geq 500 \\\\\n",
    "2x_1 + 4x_2 \\geq 500 \\\\\n",
    "x1, x2 \\geq 0\n",
    "\\end{align}"
   ]
  },
  {
   "cell_type": "code",
   "execution_count": 4,
   "metadata": {},
   "outputs": [],
   "source": [
    "# Create model\n",
    "m = gb.Model()\n",
    "\n",
    "# Add variables\n",
    "x1 = m.addVar()\n",
    "x2 = m.addVar()\n",
    "\n",
    "# Define objective function\n",
    "m.setObjective(95 * x1 + 105 * x2 + (95 * x1 - 105 * x2) * (95 * x1 - 105 * x2), \n",
    "               sense=gb.GRB.MINIMIZE)\n",
    "\n",
    "# Add constraints\n",
    "m.addConstr(6 * x1 + 2 * x2 >= 500)\n",
    "m.addConstr(7 * x2 >= 500)\n",
    "m.addConstr(2 * x1 + 4 * x2 >= 500)\n",
    "\n",
    "# Specify Gurobi options\n",
    "m.setParam('OutputFlag', 0)\n",
    "\n",
    "# Run optimization\n",
    "m.optimize()"
   ]
  },
  {
   "cell_type": "code",
   "execution_count": 3,
   "metadata": {},
   "outputs": [
    {
     "name": "stdout",
     "output_type": "stream",
     "text": [
      "x1 88.98207411663327\n",
      "x2 80.50896294168354\n",
      "Objective function value 16906.758905486953\n"
     ]
    }
   ],
   "source": [
    "# Get values of decision variables\n",
    "print('x1', x1.X)\n",
    "print('x2', x2.X)\n",
    "print('Objective function value', m.ObjVal)"
   ]
  },
  {
   "cell_type": "code",
   "execution_count": null,
   "metadata": {},
   "outputs": [],
   "source": []
  }
 ],
 "metadata": {
  "kernelspec": {
   "display_name": "Python 3",
   "language": "python",
   "name": "python3"
  },
  "language_info": {
   "codemirror_mode": {
    "name": "ipython",
    "version": 3
   },
   "file_extension": ".py",
   "mimetype": "text/x-python",
   "name": "python",
   "nbconvert_exporter": "python",
   "pygments_lexer": "ipython3",
   "version": "3.7.6"
  }
 },
 "nbformat": 4,
 "nbformat_minor": 2
}
