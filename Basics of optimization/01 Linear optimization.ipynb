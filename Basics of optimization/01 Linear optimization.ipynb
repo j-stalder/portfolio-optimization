{
 "cells": [
  {
   "cell_type": "markdown",
   "metadata": {},
   "source": [
    "# Linear optimization"
   ]
  },
  {
   "cell_type": "code",
   "execution_count": 5,
   "metadata": {},
   "outputs": [],
   "source": [
    "# Import Gurobi package\n",
    "import gurobipy as gb"
   ]
  },
  {
   "cell_type": "markdown",
   "metadata": {},
   "source": [
    "\\begin{equation}\n",
    "Min. 95x_1 + 105x_2\\\\\n",
    "6x_1 + 2x_2 \\geq 500\\\\\n",
    "7x_2 \\geq 500\\\\\n",
    "2x_1 +4x_2 \\geq 500\\\\\n",
    "x_1,x_2 \\geq 0\n",
    "\\end{equation}"
   ]
  },
  {
   "cell_type": "code",
   "execution_count": null,
   "metadata": {},
   "outputs": [],
   "source": [
    "# Create model\n",
    "m = gb.Model()\n",
    "\n",
    "# Add variables\n",
    "x1 = m.addVar()\n",
    "x2 = m.addVar()\n",
    "\n",
    "# Define objective function\n",
    "m.setObjective(95 * x1 + 105 * x2, sense=gb.GRB.MINIMIZE)\n",
    "\n",
    "# Add constraints\n",
    "m.addConstr(6 * x1 + 2 * x2 >= 500)\n",
    "m.addConstr(7 * x2 >= 500)\n",
    "m.addConstr(2 * x1 + 4 * x2 >= 500)\n",
    "\n",
    "# Run optimization\n",
    "m.optimize()"
   ]
  },
  {
   "cell_type": "code",
   "execution_count": 17,
   "metadata": {},
   "outputs": [
    {
     "name": "stdout",
     "output_type": "stream",
     "text": [
      "x1 = 50.0\n",
      "x2 = 100.0\n",
      "Objective function value = 15250.0\n"
     ]
    }
   ],
   "source": [
    "# Get values of decision variables\n",
    "print('x1 =', x1.X)\n",
    "print('x2 =', x2.X)\n",
    "print('Objective function value =', m.ObjVal)"
   ]
  }
 ],
 "metadata": {
  "kernelspec": {
   "display_name": "Python 3",
   "language": "python",
   "name": "python3"
  },
  "language_info": {
   "codemirror_mode": {
    "name": "ipython",
    "version": 3
   },
   "file_extension": ".py",
   "mimetype": "text/x-python",
   "name": "python",
   "nbconvert_exporter": "python",
   "pygments_lexer": "ipython3",
   "version": "3.7.6"
  }
 },
 "nbformat": 4,
 "nbformat_minor": 2
}
