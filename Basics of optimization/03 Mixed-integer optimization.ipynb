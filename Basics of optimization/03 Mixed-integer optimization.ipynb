{
 "cells": [
  {
   "cell_type": "markdown",
   "metadata": {},
   "source": [
    "# Mixed-integer optimization"
   ]
  },
  {
   "cell_type": "code",
   "execution_count": 1,
   "metadata": {},
   "outputs": [],
   "source": [
    "# Import Gurobi package\n",
    "import gurobipy as gb\n",
    "import pandas as pd"
   ]
  },
  {
   "cell_type": "markdown",
   "metadata": {},
   "source": [
    "## Example"
   ]
  },
  {
   "cell_type": "code",
   "execution_count": 2,
   "metadata": {},
   "outputs": [
    {
     "data": {
      "text/html": [
       "<div>\n",
       "<style scoped>\n",
       "    .dataframe tbody tr th:only-of-type {\n",
       "        vertical-align: middle;\n",
       "    }\n",
       "\n",
       "    .dataframe tbody tr th {\n",
       "        vertical-align: top;\n",
       "    }\n",
       "\n",
       "    .dataframe thead th {\n",
       "        text-align: right;\n",
       "    }\n",
       "</style>\n",
       "<table border=\"1\" class=\"dataframe\">\n",
       "  <thead>\n",
       "    <tr style=\"text-align: right;\">\n",
       "      <th></th>\n",
       "      <th>P1</th>\n",
       "      <th>P2</th>\n",
       "      <th>P3</th>\n",
       "      <th>P4</th>\n",
       "      <th>P5</th>\n",
       "      <th>P6</th>\n",
       "    </tr>\n",
       "  </thead>\n",
       "  <tbody>\n",
       "    <tr>\n",
       "      <th>INVESTMENT</th>\n",
       "      <td>5</td>\n",
       "      <td>5</td>\n",
       "      <td>5</td>\n",
       "      <td>5</td>\n",
       "      <td>8</td>\n",
       "      <td>8</td>\n",
       "    </tr>\n",
       "    <tr>\n",
       "      <th>NPV</th>\n",
       "      <td>6</td>\n",
       "      <td>6</td>\n",
       "      <td>6</td>\n",
       "      <td>6</td>\n",
       "      <td>10</td>\n",
       "      <td>10</td>\n",
       "    </tr>\n",
       "  </tbody>\n",
       "</table>\n",
       "</div>"
      ],
      "text/plain": [
       "            P1  P2  P3  P4  P5  P6\n",
       "INVESTMENT   5   5   5   5   8   8\n",
       "NPV          6   6   6   6  10  10"
      ]
     },
     "execution_count": 2,
     "metadata": {},
     "output_type": "execute_result"
    }
   ],
   "source": [
    "#Budget to be invested: 20 million CHF\n",
    "#Project candidates 1,. . . ,6:\n",
    "data = {'P1': [5,6], 'P2': [5,6],'P3': [5,6], 'P4': [5,6],'P5': [8,10],'P6': [8,10]}\n",
    "obj = pd.DataFrame(data, index=['INVESTMENT','NPV'])\n",
    "obj"
   ]
  },
  {
   "cell_type": "code",
   "execution_count": 3,
   "metadata": {},
   "outputs": [
    {
     "ename": "UnicodeDecodeError",
     "evalue": "'utf-8' codec can't decode byte 0xeb in position 30: invalid continuation byte",
     "output_type": "error",
     "traceback": [
      "\u001b[1;31m---------------------------------------------------------------------------\u001b[0m",
      "\u001b[1;31mUnicodeDecodeError\u001b[0m                        Traceback (most recent call last)",
      "\u001b[1;32mextern.pxi\u001b[0m in \u001b[0;36mgurobipy.__bytestostring\u001b[1;34m()\u001b[0m\n",
      "\u001b[1;31mUnicodeDecodeError\u001b[0m: 'utf-8' codec can't decode byte 0xeb in position 30: invalid continuation byte"
     ]
    },
    {
     "name": "stdout",
     "output_type": "stream",
     "text": [
      "Academic license - for non-commercial use only\n"
     ]
    },
    {
     "name": "stderr",
     "output_type": "stream",
     "text": [
      "Exception ignored in: 'gurobipy.logcallbackstub'\n",
      "Traceback (most recent call last):\n",
      "  File \"extern.pxi\", line 19, in gurobipy.__bytestostring\n",
      "UnicodeDecodeError: 'utf-8' codec can't decode byte 0xeb in position 30: invalid continuation byte\n"
     ]
    }
   ],
   "source": [
    "# Create model\n",
    "m = gb.Model()\n",
    "\n",
    "# Add variables\n",
    "projects = [1, 2, 3, 4, 5, 6]\n",
    "x = m.addVars(projects, vtype=gb.GRB.BINARY)\n",
    "\n",
    "# Define objective function\n",
    "m.setObjective(6 * (x[1] + x[2] + x[3] + x[4]) + 10 * (x[5] + x[6]), \n",
    "               sense=gb.GRB.MAXIMIZE)\n",
    "\n",
    "# Add constraint\n",
    "m.addConstr(5 * (x[1] + x[2] + x[3] + x[4]) + 8 * (x[5] + x[6]) <= 20)\n",
    "\n",
    "# Specify Gurobi options\n",
    "m.setParam('OutputFlag', 0)\n",
    "\n",
    "# Run optimization\n",
    "m.optimize()"
   ]
  },
  {
   "cell_type": "code",
   "execution_count": 4,
   "metadata": {},
   "outputs": [
    {
     "data": {
      "text/plain": [
       "{1: <gurobi.Var C0 (value 1.0)>,\n",
       " 2: <gurobi.Var C1 (value 1.0)>,\n",
       " 3: <gurobi.Var C2 (value 1.0)>,\n",
       " 4: <gurobi.Var C3 (value 1.0)>,\n",
       " 5: <gurobi.Var C4 (value 0.0)>,\n",
       " 6: <gurobi.Var C5 (value 0.0)>}"
      ]
     },
     "execution_count": 4,
     "metadata": {},
     "output_type": "execute_result"
    }
   ],
   "source": [
    "# Print values of variables\n",
    "x"
   ]
  },
  {
   "cell_type": "code",
   "execution_count": 5,
   "metadata": {},
   "outputs": [
    {
     "data": {
      "text/plain": [
       "24.0"
      ]
     },
     "execution_count": 5,
     "metadata": {},
     "output_type": "execute_result"
    }
   ],
   "source": [
    "# Print objective function value\n",
    "m.ObjVal"
   ]
  },
  {
   "cell_type": "code",
   "execution_count": null,
   "metadata": {},
   "outputs": [],
   "source": []
  }
 ],
 "metadata": {
  "kernelspec": {
   "display_name": "Python 3",
   "language": "python",
   "name": "python3"
  },
  "language_info": {
   "codemirror_mode": {
    "name": "ipython",
    "version": 3
   },
   "file_extension": ".py",
   "mimetype": "text/x-python",
   "name": "python",
   "nbconvert_exporter": "python",
   "pygments_lexer": "ipython3",
   "version": "3.7.6"
  }
 },
 "nbformat": 4,
 "nbformat_minor": 2
}
